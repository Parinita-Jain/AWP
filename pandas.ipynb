{
 "cells": [
  {
   "cell_type": "code",
   "execution_count": 285,
   "id": "349cfd04",
   "metadata": {},
   "outputs": [],
   "source": [
    "#!pip install pandas"
   ]
  },
  {
   "cell_type": "code",
   "execution_count": 286,
   "id": "a6aab6a1",
   "metadata": {},
   "outputs": [],
   "source": [
    "import numpy as np\n",
    "import pandas as pd\n",
    "\n",
    "import warnings\n",
    "warnings.filterwarnings(\"ignore\")"
   ]
  },
  {
   "cell_type": "code",
   "execution_count": 287,
   "id": "b1153735",
   "metadata": {},
   "outputs": [
    {
     "data": {
      "text/plain": [
       "Series([], dtype: float64)"
      ]
     },
     "execution_count": 287,
     "metadata": {},
     "output_type": "execute_result"
    }
   ],
   "source": [
    "pd.Series()"
   ]
  },
  {
   "cell_type": "code",
   "execution_count": 288,
   "id": "cc2f628f",
   "metadata": {},
   "outputs": [
    {
     "data": {
      "text/plain": [
       "list"
      ]
     },
     "execution_count": 288,
     "metadata": {},
     "output_type": "execute_result"
    }
   ],
   "source": [
    "names=[\"Harry\",\"Tom\",\"Jerry\",\"Harry\"]\n",
    "type(names)"
   ]
  },
  {
   "cell_type": "code",
   "execution_count": 289,
   "id": "8a93676d",
   "metadata": {},
   "outputs": [],
   "source": [
    "names=pd.Series(names)"
   ]
  },
  {
   "cell_type": "code",
   "execution_count": 290,
   "id": "3fa250d5",
   "metadata": {},
   "outputs": [
    {
     "data": {
      "text/plain": [
       "pandas.core.series.Series"
      ]
     },
     "execution_count": 290,
     "metadata": {},
     "output_type": "execute_result"
    }
   ],
   "source": [
    "type(names)"
   ]
  },
  {
   "cell_type": "code",
   "execution_count": 291,
   "id": "8d97616b",
   "metadata": {},
   "outputs": [
    {
     "data": {
      "text/plain": [
       "0    Harry\n",
       "1      Tom\n",
       "2    Jerry\n",
       "3    Harry\n",
       "dtype: object"
      ]
     },
     "execution_count": 291,
     "metadata": {},
     "output_type": "execute_result"
    }
   ],
   "source": [
    "names"
   ]
  },
  {
   "cell_type": "code",
   "execution_count": 292,
   "id": "04f7de95",
   "metadata": {},
   "outputs": [
    {
     "data": {
      "text/plain": [
       "a    Harry\n",
       "b      Tom\n",
       "c    Jerry\n",
       "d    Harry\n",
       "dtype: object"
      ]
     },
     "execution_count": 292,
     "metadata": {},
     "output_type": "execute_result"
    }
   ],
   "source": [
    "names=[\"Harry\",\"Tom\",\"Jerry\",\"Harry\"]\n",
    "pd.Series(names,index=['a','b','c','d'])"
   ]
  },
  {
   "cell_type": "code",
   "execution_count": 293,
   "id": "e7e713f5",
   "metadata": {},
   "outputs": [
    {
     "data": {
      "text/plain": [
       "a    5\n",
       "b    5\n",
       "c    5\n",
       "d    5\n",
       "dtype: int64"
      ]
     },
     "execution_count": 293,
     "metadata": {},
     "output_type": "execute_result"
    }
   ],
   "source": [
    "pd.Series(5,index=['a','b','c','d'])"
   ]
  },
  {
   "cell_type": "code",
   "execution_count": 294,
   "id": "56ce51a7",
   "metadata": {},
   "outputs": [
    {
     "data": {
      "text/plain": [
       "a    Harry\n",
       "b      Tom\n",
       "c    Jerry\n",
       "d    Harry\n",
       "dtype: object"
      ]
     },
     "execution_count": 294,
     "metadata": {},
     "output_type": "execute_result"
    }
   ],
   "source": [
    "d={\"a\":\"Harry\",\n",
    "  \"b\":\"Tom\",\n",
    "  \"c\":\"Jerry\",\n",
    "  \"d\":\"Harry\"}\n",
    "pd.Series(d)"
   ]
  },
  {
   "cell_type": "code",
   "execution_count": 295,
   "id": "dddf17a4",
   "metadata": {},
   "outputs": [
    {
     "data": {
      "text/plain": [
       "['Harry', 'Tom', 'Jerry', 'Harry']"
      ]
     },
     "execution_count": 295,
     "metadata": {},
     "output_type": "execute_result"
    }
   ],
   "source": [
    "names"
   ]
  },
  {
   "cell_type": "code",
   "execution_count": 296,
   "id": "ed145bc1",
   "metadata": {},
   "outputs": [
    {
     "data": {
      "text/html": [
       "<div>\n",
       "<style scoped>\n",
       "    .dataframe tbody tr th:only-of-type {\n",
       "        vertical-align: middle;\n",
       "    }\n",
       "\n",
       "    .dataframe tbody tr th {\n",
       "        vertical-align: top;\n",
       "    }\n",
       "\n",
       "    .dataframe thead th {\n",
       "        text-align: right;\n",
       "    }\n",
       "</style>\n",
       "<table border=\"1\" class=\"dataframe\">\n",
       "  <thead>\n",
       "    <tr style=\"text-align: right;\">\n",
       "      <th></th>\n",
       "      <th>0</th>\n",
       "    </tr>\n",
       "  </thead>\n",
       "  <tbody>\n",
       "    <tr>\n",
       "      <th>0</th>\n",
       "      <td>Harry</td>\n",
       "    </tr>\n",
       "    <tr>\n",
       "      <th>1</th>\n",
       "      <td>Tom</td>\n",
       "    </tr>\n",
       "    <tr>\n",
       "      <th>2</th>\n",
       "      <td>Jerry</td>\n",
       "    </tr>\n",
       "    <tr>\n",
       "      <th>3</th>\n",
       "      <td>Harry</td>\n",
       "    </tr>\n",
       "  </tbody>\n",
       "</table>\n",
       "</div>"
      ],
      "text/plain": [
       "       0\n",
       "0  Harry\n",
       "1    Tom\n",
       "2  Jerry\n",
       "3  Harry"
      ]
     },
     "execution_count": 296,
     "metadata": {},
     "output_type": "execute_result"
    }
   ],
   "source": [
    "pd.DataFrame(names)"
   ]
  },
  {
   "cell_type": "code",
   "execution_count": 297,
   "id": "55216d13",
   "metadata": {},
   "outputs": [
    {
     "data": {
      "text/plain": [
       "0    Harry\n",
       "1      Tom\n",
       "2    Jerry\n",
       "3    Harry\n",
       "dtype: object"
      ]
     },
     "execution_count": 297,
     "metadata": {},
     "output_type": "execute_result"
    }
   ],
   "source": [
    "pd.Series(names)"
   ]
  },
  {
   "cell_type": "code",
   "execution_count": 298,
   "id": "ffbea41e",
   "metadata": {},
   "outputs": [
    {
     "data": {
      "text/html": [
       "<div>\n",
       "<style scoped>\n",
       "    .dataframe tbody tr th:only-of-type {\n",
       "        vertical-align: middle;\n",
       "    }\n",
       "\n",
       "    .dataframe tbody tr th {\n",
       "        vertical-align: top;\n",
       "    }\n",
       "\n",
       "    .dataframe thead th {\n",
       "        text-align: right;\n",
       "    }\n",
       "</style>\n",
       "<table border=\"1\" class=\"dataframe\">\n",
       "  <thead>\n",
       "    <tr style=\"text-align: right;\">\n",
       "      <th></th>\n",
       "      <th>0</th>\n",
       "      <th>1</th>\n",
       "      <th>2</th>\n",
       "    </tr>\n",
       "  </thead>\n",
       "  <tbody>\n",
       "    <tr>\n",
       "      <th>0</th>\n",
       "      <td>Harry</td>\n",
       "      <td>89</td>\n",
       "      <td>78</td>\n",
       "    </tr>\n",
       "    <tr>\n",
       "      <th>1</th>\n",
       "      <td>Tom</td>\n",
       "      <td>78</td>\n",
       "      <td>90</td>\n",
       "    </tr>\n",
       "    <tr>\n",
       "      <th>2</th>\n",
       "      <td>Jerry</td>\n",
       "      <td>79</td>\n",
       "      <td>89</td>\n",
       "    </tr>\n",
       "    <tr>\n",
       "      <th>3</th>\n",
       "      <td>Bob</td>\n",
       "      <td>67</td>\n",
       "      <td>78</td>\n",
       "    </tr>\n",
       "  </tbody>\n",
       "</table>\n",
       "</div>"
      ],
      "text/plain": [
       "       0   1   2\n",
       "0  Harry  89  78\n",
       "1    Tom  78  90\n",
       "2  Jerry  79  89\n",
       "3    Bob  67  78"
      ]
     },
     "execution_count": 298,
     "metadata": {},
     "output_type": "execute_result"
    }
   ],
   "source": [
    "d=[\n",
    "    [\"Harry\",89,78],\n",
    "    [\"Tom\",78,90],\n",
    "    [\"Jerry\",79,89],\n",
    "    [\"Bob\",67,78]\n",
    "]\n",
    "pd.DataFrame(d)"
   ]
  },
  {
   "cell_type": "code",
   "execution_count": 299,
   "id": "e2981e4f",
   "metadata": {},
   "outputs": [
    {
     "data": {
      "text/html": [
       "<div>\n",
       "<style scoped>\n",
       "    .dataframe tbody tr th:only-of-type {\n",
       "        vertical-align: middle;\n",
       "    }\n",
       "\n",
       "    .dataframe tbody tr th {\n",
       "        vertical-align: top;\n",
       "    }\n",
       "\n",
       "    .dataframe thead th {\n",
       "        text-align: right;\n",
       "    }\n",
       "</style>\n",
       "<table border=\"1\" class=\"dataframe\">\n",
       "  <thead>\n",
       "    <tr style=\"text-align: right;\">\n",
       "      <th></th>\n",
       "      <th>Names</th>\n",
       "      <th>Python</th>\n",
       "      <th>ML</th>\n",
       "    </tr>\n",
       "  </thead>\n",
       "  <tbody>\n",
       "    <tr>\n",
       "      <th>0</th>\n",
       "      <td>Harry</td>\n",
       "      <td>89</td>\n",
       "      <td>78</td>\n",
       "    </tr>\n",
       "    <tr>\n",
       "      <th>1</th>\n",
       "      <td>Tom</td>\n",
       "      <td>78</td>\n",
       "      <td>90</td>\n",
       "    </tr>\n",
       "    <tr>\n",
       "      <th>2</th>\n",
       "      <td>Jerry</td>\n",
       "      <td>79</td>\n",
       "      <td>89</td>\n",
       "    </tr>\n",
       "    <tr>\n",
       "      <th>3</th>\n",
       "      <td>Bob</td>\n",
       "      <td>67</td>\n",
       "      <td>78</td>\n",
       "    </tr>\n",
       "  </tbody>\n",
       "</table>\n",
       "</div>"
      ],
      "text/plain": [
       "   Names  Python  ML\n",
       "0  Harry      89  78\n",
       "1    Tom      78  90\n",
       "2  Jerry      79  89\n",
       "3    Bob      67  78"
      ]
     },
     "execution_count": 299,
     "metadata": {},
     "output_type": "execute_result"
    }
   ],
   "source": [
    "col=['Names',\"Python\",\"ML\"]\n",
    "pd.DataFrame(d,columns=col)"
   ]
  },
  {
   "cell_type": "code",
   "execution_count": 300,
   "id": "d521fd77",
   "metadata": {},
   "outputs": [
    {
     "data": {
      "text/html": [
       "<div>\n",
       "<style scoped>\n",
       "    .dataframe tbody tr th:only-of-type {\n",
       "        vertical-align: middle;\n",
       "    }\n",
       "\n",
       "    .dataframe tbody tr th {\n",
       "        vertical-align: top;\n",
       "    }\n",
       "\n",
       "    .dataframe thead th {\n",
       "        text-align: right;\n",
       "    }\n",
       "</style>\n",
       "<table border=\"1\" class=\"dataframe\">\n",
       "  <thead>\n",
       "    <tr style=\"text-align: right;\">\n",
       "      <th></th>\n",
       "      <th>Name</th>\n",
       "      <th>Python</th>\n",
       "      <th>ML</th>\n",
       "    </tr>\n",
       "  </thead>\n",
       "  <tbody>\n",
       "    <tr>\n",
       "      <th>0</th>\n",
       "      <td>Harry</td>\n",
       "      <td>89</td>\n",
       "      <td>78</td>\n",
       "    </tr>\n",
       "    <tr>\n",
       "      <th>1</th>\n",
       "      <td>Tom</td>\n",
       "      <td>78</td>\n",
       "      <td>90</td>\n",
       "    </tr>\n",
       "    <tr>\n",
       "      <th>2</th>\n",
       "      <td>Jerry</td>\n",
       "      <td>79</td>\n",
       "      <td>89</td>\n",
       "    </tr>\n",
       "    <tr>\n",
       "      <th>3</th>\n",
       "      <td>Bob</td>\n",
       "      <td>67</td>\n",
       "      <td>78</td>\n",
       "    </tr>\n",
       "  </tbody>\n",
       "</table>\n",
       "</div>"
      ],
      "text/plain": [
       "    Name  Python  ML\n",
       "0  Harry      89  78\n",
       "1    Tom      78  90\n",
       "2  Jerry      79  89\n",
       "3    Bob      67  78"
      ]
     },
     "execution_count": 300,
     "metadata": {},
     "output_type": "execute_result"
    }
   ],
   "source": [
    "d={\"Name\":[\"Harry\",\"Tom\",\"Jerry\",\"Bob\"],\n",
    "  \"Python\":[89,78,79,67],\n",
    "  \"ML\":[78,90,89,78]}\n",
    "pd.DataFrame(d)"
   ]
  },
  {
   "cell_type": "code",
   "execution_count": 301,
   "id": "9e3e2db4",
   "metadata": {},
   "outputs": [],
   "source": [
    "d=np.random.randn(10,4)\n",
    "df=pd.DataFrame(d,columns=[\"A\",\"B\",\"C\",\"D\"])"
   ]
  },
  {
   "cell_type": "code",
   "execution_count": 302,
   "id": "78d073b8",
   "metadata": {},
   "outputs": [],
   "source": [
    "df.to_csv(\"awp245445_pandas.csv\",index=False)"
   ]
  },
  {
   "cell_type": "markdown",
   "id": "750fec9c",
   "metadata": {},
   "source": [
    "Reading Different Files"
   ]
  },
  {
   "cell_type": "code",
   "execution_count": 303,
   "id": "a2c839ab",
   "metadata": {},
   "outputs": [],
   "source": [
    "df=pd.read_table(\"chiporders.tsv\")"
   ]
  },
  {
   "cell_type": "code",
   "execution_count": 304,
   "id": "13b97762",
   "metadata": {},
   "outputs": [
    {
     "data": {
      "text/html": [
       "<div>\n",
       "<style scoped>\n",
       "    .dataframe tbody tr th:only-of-type {\n",
       "        vertical-align: middle;\n",
       "    }\n",
       "\n",
       "    .dataframe tbody tr th {\n",
       "        vertical-align: top;\n",
       "    }\n",
       "\n",
       "    .dataframe thead th {\n",
       "        text-align: right;\n",
       "    }\n",
       "</style>\n",
       "<table border=\"1\" class=\"dataframe\">\n",
       "  <thead>\n",
       "    <tr style=\"text-align: right;\">\n",
       "      <th></th>\n",
       "      <th>order_id</th>\n",
       "      <th>quantity</th>\n",
       "      <th>item_name</th>\n",
       "      <th>choice_description</th>\n",
       "      <th>item_price</th>\n",
       "    </tr>\n",
       "  </thead>\n",
       "  <tbody>\n",
       "    <tr>\n",
       "      <th>0</th>\n",
       "      <td>1</td>\n",
       "      <td>1</td>\n",
       "      <td>Chips and Fresh Tomato Salsa</td>\n",
       "      <td>NaN</td>\n",
       "      <td>$2.39</td>\n",
       "    </tr>\n",
       "    <tr>\n",
       "      <th>1</th>\n",
       "      <td>1</td>\n",
       "      <td>1</td>\n",
       "      <td>Izze</td>\n",
       "      <td>[Clementine]</td>\n",
       "      <td>$3.39</td>\n",
       "    </tr>\n",
       "    <tr>\n",
       "      <th>2</th>\n",
       "      <td>1</td>\n",
       "      <td>1</td>\n",
       "      <td>Nantucket Nectar</td>\n",
       "      <td>[Apple]</td>\n",
       "      <td>$3.39</td>\n",
       "    </tr>\n",
       "    <tr>\n",
       "      <th>3</th>\n",
       "      <td>1</td>\n",
       "      <td>1</td>\n",
       "      <td>Chips and Tomatillo-Green Chili Salsa</td>\n",
       "      <td>NaN</td>\n",
       "      <td>$2.39</td>\n",
       "    </tr>\n",
       "    <tr>\n",
       "      <th>4</th>\n",
       "      <td>2</td>\n",
       "      <td>2</td>\n",
       "      <td>Chicken Bowl</td>\n",
       "      <td>[Tomatillo-Red Chili Salsa (Hot), [Black Beans...</td>\n",
       "      <td>$16.98</td>\n",
       "    </tr>\n",
       "  </tbody>\n",
       "</table>\n",
       "</div>"
      ],
      "text/plain": [
       "   order_id  quantity                              item_name  \\\n",
       "0         1         1           Chips and Fresh Tomato Salsa   \n",
       "1         1         1                                   Izze   \n",
       "2         1         1                       Nantucket Nectar   \n",
       "3         1         1  Chips and Tomatillo-Green Chili Salsa   \n",
       "4         2         2                           Chicken Bowl   \n",
       "\n",
       "                                  choice_description item_price  \n",
       "0                                                NaN     $2.39   \n",
       "1                                       [Clementine]     $3.39   \n",
       "2                                            [Apple]     $3.39   \n",
       "3                                                NaN     $2.39   \n",
       "4  [Tomatillo-Red Chili Salsa (Hot), [Black Beans...    $16.98   "
      ]
     },
     "execution_count": 304,
     "metadata": {},
     "output_type": "execute_result"
    }
   ],
   "source": [
    "df.head()"
   ]
  },
  {
   "cell_type": "code",
   "execution_count": 305,
   "id": "dfd1d031",
   "metadata": {},
   "outputs": [
    {
     "data": {
      "text/html": [
       "<div>\n",
       "<style scoped>\n",
       "    .dataframe tbody tr th:only-of-type {\n",
       "        vertical-align: middle;\n",
       "    }\n",
       "\n",
       "    .dataframe tbody tr th {\n",
       "        vertical-align: top;\n",
       "    }\n",
       "\n",
       "    .dataframe thead th {\n",
       "        text-align: right;\n",
       "    }\n",
       "</style>\n",
       "<table border=\"1\" class=\"dataframe\">\n",
       "  <thead>\n",
       "    <tr style=\"text-align: right;\">\n",
       "      <th></th>\n",
       "      <th>order_id</th>\n",
       "      <th>quantity</th>\n",
       "      <th>item_name</th>\n",
       "      <th>choice_description</th>\n",
       "      <th>item_price</th>\n",
       "    </tr>\n",
       "  </thead>\n",
       "  <tbody>\n",
       "    <tr>\n",
       "      <th>4617</th>\n",
       "      <td>1833</td>\n",
       "      <td>1</td>\n",
       "      <td>Steak Burrito</td>\n",
       "      <td>[Fresh Tomato Salsa, [Rice, Black Beans, Sour ...</td>\n",
       "      <td>$11.75</td>\n",
       "    </tr>\n",
       "    <tr>\n",
       "      <th>4618</th>\n",
       "      <td>1833</td>\n",
       "      <td>1</td>\n",
       "      <td>Steak Burrito</td>\n",
       "      <td>[Fresh Tomato Salsa, [Rice, Sour Cream, Cheese...</td>\n",
       "      <td>$11.75</td>\n",
       "    </tr>\n",
       "    <tr>\n",
       "      <th>4619</th>\n",
       "      <td>1834</td>\n",
       "      <td>1</td>\n",
       "      <td>Chicken Salad Bowl</td>\n",
       "      <td>[Fresh Tomato Salsa, [Fajita Vegetables, Pinto...</td>\n",
       "      <td>$11.25</td>\n",
       "    </tr>\n",
       "    <tr>\n",
       "      <th>4620</th>\n",
       "      <td>1834</td>\n",
       "      <td>1</td>\n",
       "      <td>Chicken Salad Bowl</td>\n",
       "      <td>[Fresh Tomato Salsa, [Fajita Vegetables, Lettu...</td>\n",
       "      <td>$8.75</td>\n",
       "    </tr>\n",
       "    <tr>\n",
       "      <th>4621</th>\n",
       "      <td>1834</td>\n",
       "      <td>1</td>\n",
       "      <td>Chicken Salad Bowl</td>\n",
       "      <td>[Fresh Tomato Salsa, [Fajita Vegetables, Pinto...</td>\n",
       "      <td>$8.75</td>\n",
       "    </tr>\n",
       "  </tbody>\n",
       "</table>\n",
       "</div>"
      ],
      "text/plain": [
       "      order_id  quantity           item_name  \\\n",
       "4617      1833         1       Steak Burrito   \n",
       "4618      1833         1       Steak Burrito   \n",
       "4619      1834         1  Chicken Salad Bowl   \n",
       "4620      1834         1  Chicken Salad Bowl   \n",
       "4621      1834         1  Chicken Salad Bowl   \n",
       "\n",
       "                                     choice_description item_price  \n",
       "4617  [Fresh Tomato Salsa, [Rice, Black Beans, Sour ...    $11.75   \n",
       "4618  [Fresh Tomato Salsa, [Rice, Sour Cream, Cheese...    $11.75   \n",
       "4619  [Fresh Tomato Salsa, [Fajita Vegetables, Pinto...    $11.25   \n",
       "4620  [Fresh Tomato Salsa, [Fajita Vegetables, Lettu...     $8.75   \n",
       "4621  [Fresh Tomato Salsa, [Fajita Vegetables, Pinto...     $8.75   "
      ]
     },
     "execution_count": 305,
     "metadata": {},
     "output_type": "execute_result"
    }
   ],
   "source": [
    "df.tail()"
   ]
  },
  {
   "cell_type": "code",
   "execution_count": 306,
   "id": "4e17b0c5",
   "metadata": {},
   "outputs": [
    {
     "data": {
      "text/html": [
       "<div>\n",
       "<style scoped>\n",
       "    .dataframe tbody tr th:only-of-type {\n",
       "        vertical-align: middle;\n",
       "    }\n",
       "\n",
       "    .dataframe tbody tr th {\n",
       "        vertical-align: top;\n",
       "    }\n",
       "\n",
       "    .dataframe thead th {\n",
       "        text-align: right;\n",
       "    }\n",
       "</style>\n",
       "<table border=\"1\" class=\"dataframe\">\n",
       "  <thead>\n",
       "    <tr style=\"text-align: right;\">\n",
       "      <th></th>\n",
       "      <th>order_id</th>\n",
       "      <th>quantity</th>\n",
       "      <th>item_name</th>\n",
       "      <th>choice_description</th>\n",
       "      <th>item_price</th>\n",
       "    </tr>\n",
       "  </thead>\n",
       "  <tbody>\n",
       "    <tr>\n",
       "      <th>1976</th>\n",
       "      <td>798</td>\n",
       "      <td>1</td>\n",
       "      <td>6 Pack Soft Drink</td>\n",
       "      <td>[Diet Coke]</td>\n",
       "      <td>$6.49</td>\n",
       "    </tr>\n",
       "  </tbody>\n",
       "</table>\n",
       "</div>"
      ],
      "text/plain": [
       "      order_id  quantity          item_name choice_description item_price\n",
       "1976       798         1  6 Pack Soft Drink        [Diet Coke]     $6.49 "
      ]
     },
     "execution_count": 306,
     "metadata": {},
     "output_type": "execute_result"
    }
   ],
   "source": [
    "df.sample()"
   ]
  },
  {
   "cell_type": "code",
   "execution_count": 307,
   "id": "9e61fab2",
   "metadata": {},
   "outputs": [
    {
     "data": {
      "text/html": [
       "<div>\n",
       "<style scoped>\n",
       "    .dataframe tbody tr th:only-of-type {\n",
       "        vertical-align: middle;\n",
       "    }\n",
       "\n",
       "    .dataframe tbody tr th {\n",
       "        vertical-align: top;\n",
       "    }\n",
       "\n",
       "    .dataframe thead th {\n",
       "        text-align: right;\n",
       "    }\n",
       "</style>\n",
       "<table border=\"1\" class=\"dataframe\">\n",
       "  <thead>\n",
       "    <tr style=\"text-align: right;\">\n",
       "      <th></th>\n",
       "      <th>Sepal Length</th>\n",
       "      <th>Sepal Width</th>\n",
       "      <th>Petal Length</th>\n",
       "      <th>Petal Width</th>\n",
       "      <th>Class</th>\n",
       "    </tr>\n",
       "  </thead>\n",
       "  <tbody>\n",
       "    <tr>\n",
       "      <th>0</th>\n",
       "      <td>5.1</td>\n",
       "      <td>3.5</td>\n",
       "      <td>1.4</td>\n",
       "      <td>0.2</td>\n",
       "      <td>Iris-setosa</td>\n",
       "    </tr>\n",
       "    <tr>\n",
       "      <th>1</th>\n",
       "      <td>4.9</td>\n",
       "      <td>3.0</td>\n",
       "      <td>1.4</td>\n",
       "      <td>0.2</td>\n",
       "      <td>Iris-setosa</td>\n",
       "    </tr>\n",
       "    <tr>\n",
       "      <th>2</th>\n",
       "      <td>4.7</td>\n",
       "      <td>3.2</td>\n",
       "      <td>1.3</td>\n",
       "      <td>0.2</td>\n",
       "      <td>Iris-setosa</td>\n",
       "    </tr>\n",
       "    <tr>\n",
       "      <th>3</th>\n",
       "      <td>4.6</td>\n",
       "      <td>3.1</td>\n",
       "      <td>1.5</td>\n",
       "      <td>0.2</td>\n",
       "      <td>Iris-setosa</td>\n",
       "    </tr>\n",
       "    <tr>\n",
       "      <th>4</th>\n",
       "      <td>5.0</td>\n",
       "      <td>3.6</td>\n",
       "      <td>1.4</td>\n",
       "      <td>0.2</td>\n",
       "      <td>Iris-setosa</td>\n",
       "    </tr>\n",
       "  </tbody>\n",
       "</table>\n",
       "</div>"
      ],
      "text/plain": [
       "   Sepal Length  Sepal Width  Petal Length  Petal Width        Class\n",
       "0           5.1          3.5           1.4          0.2  Iris-setosa\n",
       "1           4.9          3.0           1.4          0.2  Iris-setosa\n",
       "2           4.7          3.2           1.3          0.2  Iris-setosa\n",
       "3           4.6          3.1           1.5          0.2  Iris-setosa\n",
       "4           5.0          3.6           1.4          0.2  Iris-setosa"
      ]
     },
     "execution_count": 307,
     "metadata": {},
     "output_type": "execute_result"
    }
   ],
   "source": [
    "path=\"https://archive.ics.uci.edu/ml/machine-learning-databases/iris/iris.data\"\n",
    "#names=[\"Sepal Length\",\"Sepal Width\",\"Petal Length\",\"Petal Width\"]\n",
    "#pd.read_table(path)\n",
    "df=pd.read_csv(path,names=[\"Sepal Length\",\"Sepal Width\",\"Petal Length\",\"Petal Width\",\"Class\"])\n",
    "df.head()"
   ]
  },
  {
   "cell_type": "code",
   "execution_count": 308,
   "id": "b77adc9d",
   "metadata": {},
   "outputs": [
    {
     "data": {
      "text/html": [
       "<div>\n",
       "<style scoped>\n",
       "    .dataframe tbody tr th:only-of-type {\n",
       "        vertical-align: middle;\n",
       "    }\n",
       "\n",
       "    .dataframe tbody tr th {\n",
       "        vertical-align: top;\n",
       "    }\n",
       "\n",
       "    .dataframe thead th {\n",
       "        text-align: right;\n",
       "    }\n",
       "</style>\n",
       "<table border=\"1\" class=\"dataframe\">\n",
       "  <thead>\n",
       "    <tr style=\"text-align: right;\">\n",
       "      <th></th>\n",
       "      <th>id</th>\n",
       "      <th>age</th>\n",
       "      <th>gender</th>\n",
       "      <th>occupation</th>\n",
       "      <th>area_code</th>\n",
       "    </tr>\n",
       "  </thead>\n",
       "  <tbody>\n",
       "    <tr>\n",
       "      <th>0</th>\n",
       "      <td>1</td>\n",
       "      <td>24</td>\n",
       "      <td>M</td>\n",
       "      <td>technician</td>\n",
       "      <td>85711</td>\n",
       "    </tr>\n",
       "    <tr>\n",
       "      <th>1</th>\n",
       "      <td>2</td>\n",
       "      <td>53</td>\n",
       "      <td>F</td>\n",
       "      <td>other</td>\n",
       "      <td>94043</td>\n",
       "    </tr>\n",
       "    <tr>\n",
       "      <th>2</th>\n",
       "      <td>3</td>\n",
       "      <td>23</td>\n",
       "      <td>M</td>\n",
       "      <td>writer</td>\n",
       "      <td>32067</td>\n",
       "    </tr>\n",
       "    <tr>\n",
       "      <th>3</th>\n",
       "      <td>4</td>\n",
       "      <td>24</td>\n",
       "      <td>M</td>\n",
       "      <td>technician</td>\n",
       "      <td>43537</td>\n",
       "    </tr>\n",
       "    <tr>\n",
       "      <th>4</th>\n",
       "      <td>5</td>\n",
       "      <td>33</td>\n",
       "      <td>F</td>\n",
       "      <td>other</td>\n",
       "      <td>15213</td>\n",
       "    </tr>\n",
       "  </tbody>\n",
       "</table>\n",
       "</div>"
      ],
      "text/plain": [
       "   id  age gender  occupation area_code\n",
       "0   1   24      M  technician     85711\n",
       "1   2   53      F       other     94043\n",
       "2   3   23      M      writer     32067\n",
       "3   4   24      M  technician     43537\n",
       "4   5   33      F       other     15213"
      ]
     },
     "execution_count": 308,
     "metadata": {},
     "output_type": "execute_result"
    }
   ],
   "source": [
    "col=[\"id\",\"age\",\"gender\",\"occupation\",\"area_code\"]\n",
    "df=pd.read_table(\"psd.user\",sep='|',header=None,names=col)\n",
    "df.head()"
   ]
  },
  {
   "cell_type": "code",
   "execution_count": 309,
   "id": "4f471730",
   "metadata": {},
   "outputs": [
    {
     "data": {
      "text/html": [
       "<div>\n",
       "<style scoped>\n",
       "    .dataframe tbody tr th:only-of-type {\n",
       "        vertical-align: middle;\n",
       "    }\n",
       "\n",
       "    .dataframe tbody tr th {\n",
       "        vertical-align: top;\n",
       "    }\n",
       "\n",
       "    .dataframe thead th {\n",
       "        text-align: right;\n",
       "    }\n",
       "</style>\n",
       "<table border=\"1\" class=\"dataframe\">\n",
       "  <thead>\n",
       "    <tr style=\"text-align: right;\">\n",
       "      <th></th>\n",
       "      <th>name</th>\n",
       "      <th>age</th>\n",
       "      <th>grade</th>\n",
       "    </tr>\n",
       "  </thead>\n",
       "  <tbody>\n",
       "    <tr>\n",
       "      <th>0</th>\n",
       "      <td>Andew</td>\n",
       "      <td>12</td>\n",
       "      <td>A</td>\n",
       "    </tr>\n",
       "    <tr>\n",
       "      <th>1</th>\n",
       "      <td>Bhuvan</td>\n",
       "      <td>18</td>\n",
       "      <td>B</td>\n",
       "    </tr>\n",
       "    <tr>\n",
       "      <th>2</th>\n",
       "      <td>Clinton</td>\n",
       "      <td>11</td>\n",
       "      <td>A</td>\n",
       "    </tr>\n",
       "    <tr>\n",
       "      <th>3</th>\n",
       "      <td>Drake</td>\n",
       "      <td>12</td>\n",
       "      <td>C</td>\n",
       "    </tr>\n",
       "    <tr>\n",
       "      <th>4</th>\n",
       "      <td>Eisha</td>\n",
       "      <td>13</td>\n",
       "      <td>B</td>\n",
       "    </tr>\n",
       "    <tr>\n",
       "      <th>5</th>\n",
       "      <td>Farhan</td>\n",
       "      <td>22</td>\n",
       "      <td>C</td>\n",
       "    </tr>\n",
       "    <tr>\n",
       "      <th>6</th>\n",
       "      <td>Garima</td>\n",
       "      <td>11</td>\n",
       "      <td>A</td>\n",
       "    </tr>\n",
       "    <tr>\n",
       "      <th>7</th>\n",
       "      <td>Himanshu</td>\n",
       "      <td>19</td>\n",
       "      <td>A</td>\n",
       "    </tr>\n",
       "    <tr>\n",
       "      <th>8</th>\n",
       "      <td>Ishaan</td>\n",
       "      <td>10</td>\n",
       "      <td>D</td>\n",
       "    </tr>\n",
       "    <tr>\n",
       "      <th>9</th>\n",
       "      <td>Jason</td>\n",
       "      <td>9</td>\n",
       "      <td>B</td>\n",
       "    </tr>\n",
       "  </tbody>\n",
       "</table>\n",
       "</div>"
      ],
      "text/plain": [
       "       name  age grade\n",
       "0     Andew   12     A\n",
       "1    Bhuvan   18     B\n",
       "2   Clinton   11     A\n",
       "3     Drake   12     C\n",
       "4     Eisha   13     B\n",
       "5    Farhan   22     C\n",
       "6    Garima   11     A\n",
       "7  Himanshu   19     A\n",
       "8    Ishaan   10     D\n",
       "9     Jason    9     B"
      ]
     },
     "execution_count": 309,
     "metadata": {},
     "output_type": "execute_result"
    }
   ],
   "source": [
    "pd.read_json(\"simple.json\")"
   ]
  },
  {
   "cell_type": "code",
   "execution_count": 310,
   "id": "7f3433b5",
   "metadata": {},
   "outputs": [
    {
     "data": {
      "text/html": [
       "<div>\n",
       "<style scoped>\n",
       "    .dataframe tbody tr th:only-of-type {\n",
       "        vertical-align: middle;\n",
       "    }\n",
       "\n",
       "    .dataframe tbody tr th {\n",
       "        vertical-align: top;\n",
       "    }\n",
       "\n",
       "    .dataframe thead th {\n",
       "        text-align: right;\n",
       "    }\n",
       "</style>\n",
       "<table border=\"1\" class=\"dataframe\">\n",
       "  <thead>\n",
       "    <tr style=\"text-align: right;\">\n",
       "      <th></th>\n",
       "      <th>name</th>\n",
       "      <th>age</th>\n",
       "      <th>grade</th>\n",
       "    </tr>\n",
       "  </thead>\n",
       "  <tbody>\n",
       "    <tr>\n",
       "      <th>0</th>\n",
       "      <td>Andew</td>\n",
       "      <td>12</td>\n",
       "      <td>A</td>\n",
       "    </tr>\n",
       "    <tr>\n",
       "      <th>1</th>\n",
       "      <td>Bhuvan</td>\n",
       "      <td>18</td>\n",
       "      <td>B</td>\n",
       "    </tr>\n",
       "    <tr>\n",
       "      <th>2</th>\n",
       "      <td>Clinton</td>\n",
       "      <td>11</td>\n",
       "      <td>A</td>\n",
       "    </tr>\n",
       "    <tr>\n",
       "      <th>3</th>\n",
       "      <td>Drake</td>\n",
       "      <td>12</td>\n",
       "      <td>C</td>\n",
       "    </tr>\n",
       "    <tr>\n",
       "      <th>4</th>\n",
       "      <td>Eisha</td>\n",
       "      <td>13</td>\n",
       "      <td>B</td>\n",
       "    </tr>\n",
       "    <tr>\n",
       "      <th>5</th>\n",
       "      <td>Farhan</td>\n",
       "      <td>22</td>\n",
       "      <td>C</td>\n",
       "    </tr>\n",
       "    <tr>\n",
       "      <th>6</th>\n",
       "      <td>Garima</td>\n",
       "      <td>11</td>\n",
       "      <td>A</td>\n",
       "    </tr>\n",
       "    <tr>\n",
       "      <th>7</th>\n",
       "      <td>Himanshu</td>\n",
       "      <td>19</td>\n",
       "      <td>A</td>\n",
       "    </tr>\n",
       "    <tr>\n",
       "      <th>8</th>\n",
       "      <td>Ishaan</td>\n",
       "      <td>10</td>\n",
       "      <td>D</td>\n",
       "    </tr>\n",
       "    <tr>\n",
       "      <th>9</th>\n",
       "      <td>Jason</td>\n",
       "      <td>9</td>\n",
       "      <td>B</td>\n",
       "    </tr>\n",
       "  </tbody>\n",
       "</table>\n",
       "</div>"
      ],
      "text/plain": [
       "       name  age grade\n",
       "0     Andew   12     A\n",
       "1    Bhuvan   18     B\n",
       "2   Clinton   11     A\n",
       "3     Drake   12     C\n",
       "4     Eisha   13     B\n",
       "5    Farhan   22     C\n",
       "6    Garima   11     A\n",
       "7  Himanshu   19     A\n",
       "8    Ishaan   10     D\n",
       "9     Jason    9     B"
      ]
     },
     "execution_count": 310,
     "metadata": {},
     "output_type": "execute_result"
    }
   ],
   "source": [
    "pd.read_json(\"simple_records.json\",lines=True)"
   ]
  },
  {
   "cell_type": "code",
   "execution_count": 311,
   "id": "10a14e66",
   "metadata": {},
   "outputs": [
    {
     "data": {
      "text/html": [
       "<div>\n",
       "<style scoped>\n",
       "    .dataframe tbody tr th:only-of-type {\n",
       "        vertical-align: middle;\n",
       "    }\n",
       "\n",
       "    .dataframe tbody tr th {\n",
       "        vertical-align: top;\n",
       "    }\n",
       "\n",
       "    .dataframe thead th {\n",
       "        text-align: right;\n",
       "    }\n",
       "</style>\n",
       "<table border=\"1\" class=\"dataframe\">\n",
       "  <thead>\n",
       "    <tr style=\"text-align: right;\">\n",
       "      <th></th>\n",
       "      <th>star_rating</th>\n",
       "      <th>title</th>\n",
       "      <th>content_rating</th>\n",
       "      <th>genre</th>\n",
       "      <th>duration</th>\n",
       "      <th>actors_list</th>\n",
       "    </tr>\n",
       "  </thead>\n",
       "  <tbody>\n",
       "    <tr>\n",
       "      <th>0</th>\n",
       "      <td>9.3</td>\n",
       "      <td>The Shawshank Redemption</td>\n",
       "      <td>R</td>\n",
       "      <td>Crime</td>\n",
       "      <td>142</td>\n",
       "      <td>[u'Tim Robbins', u'Morgan Freeman', u'Bob Gunt...</td>\n",
       "    </tr>\n",
       "    <tr>\n",
       "      <th>1</th>\n",
       "      <td>9.2</td>\n",
       "      <td>The Godfather</td>\n",
       "      <td>R</td>\n",
       "      <td>Crime</td>\n",
       "      <td>175</td>\n",
       "      <td>[u'Marlon Brando', u'Al Pacino', u'James Caan']</td>\n",
       "    </tr>\n",
       "    <tr>\n",
       "      <th>2</th>\n",
       "      <td>9.1</td>\n",
       "      <td>The Godfather: Part II</td>\n",
       "      <td>R</td>\n",
       "      <td>Crime</td>\n",
       "      <td>200</td>\n",
       "      <td>[u'Al Pacino', u'Robert De Niro', u'Robert Duv...</td>\n",
       "    </tr>\n",
       "    <tr>\n",
       "      <th>3</th>\n",
       "      <td>9.0</td>\n",
       "      <td>The Dark Knight</td>\n",
       "      <td>PG-13</td>\n",
       "      <td>Action</td>\n",
       "      <td>152</td>\n",
       "      <td>[u'Christian Bale', u'Heath Ledger', u'Aaron E...</td>\n",
       "    </tr>\n",
       "    <tr>\n",
       "      <th>4</th>\n",
       "      <td>8.9</td>\n",
       "      <td>Pulp Fiction</td>\n",
       "      <td>R</td>\n",
       "      <td>Crime</td>\n",
       "      <td>154</td>\n",
       "      <td>[u'John Travolta', u'Uma Thurman', u'Samuel L....</td>\n",
       "    </tr>\n",
       "    <tr>\n",
       "      <th>...</th>\n",
       "      <td>...</td>\n",
       "      <td>...</td>\n",
       "      <td>...</td>\n",
       "      <td>...</td>\n",
       "      <td>...</td>\n",
       "      <td>...</td>\n",
       "    </tr>\n",
       "    <tr>\n",
       "      <th>974</th>\n",
       "      <td>7.4</td>\n",
       "      <td>Tootsie</td>\n",
       "      <td>PG</td>\n",
       "      <td>Comedy</td>\n",
       "      <td>116</td>\n",
       "      <td>[u'Dustin Hoffman', u'Jessica Lange', u'Teri G...</td>\n",
       "    </tr>\n",
       "    <tr>\n",
       "      <th>975</th>\n",
       "      <td>7.4</td>\n",
       "      <td>Back to the Future Part III</td>\n",
       "      <td>PG</td>\n",
       "      <td>Adventure</td>\n",
       "      <td>118</td>\n",
       "      <td>[u'Michael J. Fox', u'Christopher Lloyd', u'Ma...</td>\n",
       "    </tr>\n",
       "    <tr>\n",
       "      <th>976</th>\n",
       "      <td>7.4</td>\n",
       "      <td>Master and Commander: The Far Side of the World</td>\n",
       "      <td>PG-13</td>\n",
       "      <td>Action</td>\n",
       "      <td>138</td>\n",
       "      <td>[u'Russell Crowe', u'Paul Bettany', u'Billy Bo...</td>\n",
       "    </tr>\n",
       "    <tr>\n",
       "      <th>977</th>\n",
       "      <td>7.4</td>\n",
       "      <td>Poltergeist</td>\n",
       "      <td>PG</td>\n",
       "      <td>Horror</td>\n",
       "      <td>114</td>\n",
       "      <td>[u'JoBeth Williams', u\"Heather O'Rourke\", u'Cr...</td>\n",
       "    </tr>\n",
       "    <tr>\n",
       "      <th>978</th>\n",
       "      <td>7.4</td>\n",
       "      <td>Wall Street</td>\n",
       "      <td>R</td>\n",
       "      <td>Crime</td>\n",
       "      <td>126</td>\n",
       "      <td>[u'Charlie Sheen', u'Michael Douglas', u'Tamar...</td>\n",
       "    </tr>\n",
       "  </tbody>\n",
       "</table>\n",
       "<p>979 rows × 6 columns</p>\n",
       "</div>"
      ],
      "text/plain": [
       "     star_rating                                            title  \\\n",
       "0            9.3                         The Shawshank Redemption   \n",
       "1            9.2                                    The Godfather   \n",
       "2            9.1                           The Godfather: Part II   \n",
       "3            9.0                                  The Dark Knight   \n",
       "4            8.9                                     Pulp Fiction   \n",
       "..           ...                                              ...   \n",
       "974          7.4                                          Tootsie   \n",
       "975          7.4                      Back to the Future Part III   \n",
       "976          7.4  Master and Commander: The Far Side of the World   \n",
       "977          7.4                                      Poltergeist   \n",
       "978          7.4                                      Wall Street   \n",
       "\n",
       "    content_rating      genre  duration  \\\n",
       "0                R      Crime       142   \n",
       "1                R      Crime       175   \n",
       "2                R      Crime       200   \n",
       "3            PG-13     Action       152   \n",
       "4                R      Crime       154   \n",
       "..             ...        ...       ...   \n",
       "974             PG     Comedy       116   \n",
       "975             PG  Adventure       118   \n",
       "976          PG-13     Action       138   \n",
       "977             PG     Horror       114   \n",
       "978              R      Crime       126   \n",
       "\n",
       "                                           actors_list  \n",
       "0    [u'Tim Robbins', u'Morgan Freeman', u'Bob Gunt...  \n",
       "1      [u'Marlon Brando', u'Al Pacino', u'James Caan']  \n",
       "2    [u'Al Pacino', u'Robert De Niro', u'Robert Duv...  \n",
       "3    [u'Christian Bale', u'Heath Ledger', u'Aaron E...  \n",
       "4    [u'John Travolta', u'Uma Thurman', u'Samuel L....  \n",
       "..                                                 ...  \n",
       "974  [u'Dustin Hoffman', u'Jessica Lange', u'Teri G...  \n",
       "975  [u'Michael J. Fox', u'Christopher Lloyd', u'Ma...  \n",
       "976  [u'Russell Crowe', u'Paul Bettany', u'Billy Bo...  \n",
       "977  [u'JoBeth Williams', u\"Heather O'Rourke\", u'Cr...  \n",
       "978  [u'Charlie Sheen', u'Michael Douglas', u'Tamar...  \n",
       "\n",
       "[979 rows x 6 columns]"
      ]
     },
     "execution_count": 311,
     "metadata": {},
     "output_type": "execute_result"
    }
   ],
   "source": [
    "df=pd.read_csv(\"movies.csv\")\n",
    "df"
   ]
  },
  {
   "cell_type": "code",
   "execution_count": 312,
   "id": "6879ee0f",
   "metadata": {},
   "outputs": [
    {
     "data": {
      "text/html": [
       "<div>\n",
       "<style scoped>\n",
       "    .dataframe tbody tr th:only-of-type {\n",
       "        vertical-align: middle;\n",
       "    }\n",
       "\n",
       "    .dataframe tbody tr th {\n",
       "        vertical-align: top;\n",
       "    }\n",
       "\n",
       "    .dataframe thead th {\n",
       "        text-align: right;\n",
       "    }\n",
       "</style>\n",
       "<table border=\"1\" class=\"dataframe\">\n",
       "  <thead>\n",
       "    <tr style=\"text-align: right;\">\n",
       "      <th></th>\n",
       "      <th>star_rating</th>\n",
       "      <th>title</th>\n",
       "      <th>content_rating</th>\n",
       "      <th>genre</th>\n",
       "      <th>duration</th>\n",
       "      <th>actors_list</th>\n",
       "    </tr>\n",
       "  </thead>\n",
       "  <tbody>\n",
       "    <tr>\n",
       "      <th>0</th>\n",
       "      <td>9.3</td>\n",
       "      <td>The Shawshank Redemption</td>\n",
       "      <td>R</td>\n",
       "      <td>Crime</td>\n",
       "      <td>142</td>\n",
       "      <td>[u'Tim Robbins', u'Morgan Freeman', u'Bob Gunt...</td>\n",
       "    </tr>\n",
       "    <tr>\n",
       "      <th>1</th>\n",
       "      <td>9.2</td>\n",
       "      <td>The Godfather</td>\n",
       "      <td>R</td>\n",
       "      <td>Crime</td>\n",
       "      <td>175</td>\n",
       "      <td>[u'Marlon Brando', u'Al Pacino', u'James Caan']</td>\n",
       "    </tr>\n",
       "    <tr>\n",
       "      <th>2</th>\n",
       "      <td>9.1</td>\n",
       "      <td>The Godfather: Part II</td>\n",
       "      <td>R</td>\n",
       "      <td>Crime</td>\n",
       "      <td>200</td>\n",
       "      <td>[u'Al Pacino', u'Robert De Niro', u'Robert Duv...</td>\n",
       "    </tr>\n",
       "    <tr>\n",
       "      <th>3</th>\n",
       "      <td>9.0</td>\n",
       "      <td>The Dark Knight</td>\n",
       "      <td>PG-13</td>\n",
       "      <td>Action</td>\n",
       "      <td>152</td>\n",
       "      <td>[u'Christian Bale', u'Heath Ledger', u'Aaron E...</td>\n",
       "    </tr>\n",
       "    <tr>\n",
       "      <th>4</th>\n",
       "      <td>8.9</td>\n",
       "      <td>Pulp Fiction</td>\n",
       "      <td>R</td>\n",
       "      <td>Crime</td>\n",
       "      <td>154</td>\n",
       "      <td>[u'John Travolta', u'Uma Thurman', u'Samuel L....</td>\n",
       "    </tr>\n",
       "  </tbody>\n",
       "</table>\n",
       "</div>"
      ],
      "text/plain": [
       "   star_rating                     title content_rating   genre  duration  \\\n",
       "0          9.3  The Shawshank Redemption              R   Crime       142   \n",
       "1          9.2             The Godfather              R   Crime       175   \n",
       "2          9.1    The Godfather: Part II              R   Crime       200   \n",
       "3          9.0           The Dark Knight          PG-13  Action       152   \n",
       "4          8.9              Pulp Fiction              R   Crime       154   \n",
       "\n",
       "                                         actors_list  \n",
       "0  [u'Tim Robbins', u'Morgan Freeman', u'Bob Gunt...  \n",
       "1    [u'Marlon Brando', u'Al Pacino', u'James Caan']  \n",
       "2  [u'Al Pacino', u'Robert De Niro', u'Robert Duv...  \n",
       "3  [u'Christian Bale', u'Heath Ledger', u'Aaron E...  \n",
       "4  [u'John Travolta', u'Uma Thurman', u'Samuel L....  "
      ]
     },
     "execution_count": 312,
     "metadata": {},
     "output_type": "execute_result"
    }
   ],
   "source": [
    "df.head()"
   ]
  },
  {
   "cell_type": "code",
   "execution_count": 313,
   "id": "0a2f18b1",
   "metadata": {},
   "outputs": [
    {
     "name": "stdout",
     "output_type": "stream",
     "text": [
      "<class 'pandas.core.frame.DataFrame'>\n",
      "RangeIndex: 979 entries, 0 to 978\n",
      "Data columns (total 6 columns):\n",
      " #   Column          Non-Null Count  Dtype  \n",
      "---  ------          --------------  -----  \n",
      " 0   star_rating     979 non-null    float64\n",
      " 1   title           979 non-null    object \n",
      " 2   content_rating  976 non-null    object \n",
      " 3   genre           979 non-null    object \n",
      " 4   duration        979 non-null    int64  \n",
      " 5   actors_list     979 non-null    object \n",
      "dtypes: float64(1), int64(1), object(4)\n",
      "memory usage: 46.0+ KB\n"
     ]
    }
   ],
   "source": [
    "df.info()"
   ]
  },
  {
   "cell_type": "markdown",
   "id": "037cf0c9",
   "metadata": {},
   "source": [
    "There are missing values in content_rating column.\n",
    "dtypes of cols: float64(1), int64(1), object(4)"
   ]
  },
  {
   "cell_type": "code",
   "execution_count": 314,
   "id": "6ce7cb10",
   "metadata": {},
   "outputs": [
    {
     "data": {
      "text/plain": [
       "0      9.3\n",
       "1      9.2\n",
       "2      9.1\n",
       "3      9.0\n",
       "4      8.9\n",
       "      ... \n",
       "974    7.4\n",
       "975    7.4\n",
       "976    7.4\n",
       "977    7.4\n",
       "978    7.4\n",
       "Name: star_rating, Length: 979, dtype: float64"
      ]
     },
     "execution_count": 314,
     "metadata": {},
     "output_type": "execute_result"
    }
   ],
   "source": [
    "df.star_rating"
   ]
  },
  {
   "cell_type": "code",
   "execution_count": 315,
   "id": "d21069b2",
   "metadata": {},
   "outputs": [
    {
     "data": {
      "text/plain": [
       "0      9.3\n",
       "1      9.2\n",
       "2      9.1\n",
       "3      9.0\n",
       "4      8.9\n",
       "      ... \n",
       "974    7.4\n",
       "975    7.4\n",
       "976    7.4\n",
       "977    7.4\n",
       "978    7.4\n",
       "Name: star_rating, Length: 979, dtype: float64"
      ]
     },
     "execution_count": 315,
     "metadata": {},
     "output_type": "execute_result"
    }
   ],
   "source": [
    "df[\"star_rating\"]"
   ]
  },
  {
   "cell_type": "code",
   "execution_count": 316,
   "id": "b3447d6f",
   "metadata": {},
   "outputs": [
    {
     "data": {
      "text/html": [
       "<div>\n",
       "<style scoped>\n",
       "    .dataframe tbody tr th:only-of-type {\n",
       "        vertical-align: middle;\n",
       "    }\n",
       "\n",
       "    .dataframe tbody tr th {\n",
       "        vertical-align: top;\n",
       "    }\n",
       "\n",
       "    .dataframe thead th {\n",
       "        text-align: right;\n",
       "    }\n",
       "</style>\n",
       "<table border=\"1\" class=\"dataframe\">\n",
       "  <thead>\n",
       "    <tr style=\"text-align: right;\">\n",
       "      <th></th>\n",
       "      <th>star_rating</th>\n",
       "      <th>title</th>\n",
       "    </tr>\n",
       "  </thead>\n",
       "  <tbody>\n",
       "    <tr>\n",
       "      <th>0</th>\n",
       "      <td>9.3</td>\n",
       "      <td>The Shawshank Redemption</td>\n",
       "    </tr>\n",
       "    <tr>\n",
       "      <th>1</th>\n",
       "      <td>9.2</td>\n",
       "      <td>The Godfather</td>\n",
       "    </tr>\n",
       "    <tr>\n",
       "      <th>2</th>\n",
       "      <td>9.1</td>\n",
       "      <td>The Godfather: Part II</td>\n",
       "    </tr>\n",
       "    <tr>\n",
       "      <th>3</th>\n",
       "      <td>9.0</td>\n",
       "      <td>The Dark Knight</td>\n",
       "    </tr>\n",
       "    <tr>\n",
       "      <th>4</th>\n",
       "      <td>8.9</td>\n",
       "      <td>Pulp Fiction</td>\n",
       "    </tr>\n",
       "    <tr>\n",
       "      <th>...</th>\n",
       "      <td>...</td>\n",
       "      <td>...</td>\n",
       "    </tr>\n",
       "    <tr>\n",
       "      <th>974</th>\n",
       "      <td>7.4</td>\n",
       "      <td>Tootsie</td>\n",
       "    </tr>\n",
       "    <tr>\n",
       "      <th>975</th>\n",
       "      <td>7.4</td>\n",
       "      <td>Back to the Future Part III</td>\n",
       "    </tr>\n",
       "    <tr>\n",
       "      <th>976</th>\n",
       "      <td>7.4</td>\n",
       "      <td>Master and Commander: The Far Side of the World</td>\n",
       "    </tr>\n",
       "    <tr>\n",
       "      <th>977</th>\n",
       "      <td>7.4</td>\n",
       "      <td>Poltergeist</td>\n",
       "    </tr>\n",
       "    <tr>\n",
       "      <th>978</th>\n",
       "      <td>7.4</td>\n",
       "      <td>Wall Street</td>\n",
       "    </tr>\n",
       "  </tbody>\n",
       "</table>\n",
       "<p>979 rows × 2 columns</p>\n",
       "</div>"
      ],
      "text/plain": [
       "     star_rating                                            title\n",
       "0            9.3                         The Shawshank Redemption\n",
       "1            9.2                                    The Godfather\n",
       "2            9.1                           The Godfather: Part II\n",
       "3            9.0                                  The Dark Knight\n",
       "4            8.9                                     Pulp Fiction\n",
       "..           ...                                              ...\n",
       "974          7.4                                          Tootsie\n",
       "975          7.4                      Back to the Future Part III\n",
       "976          7.4  Master and Commander: The Far Side of the World\n",
       "977          7.4                                      Poltergeist\n",
       "978          7.4                                      Wall Street\n",
       "\n",
       "[979 rows x 2 columns]"
      ]
     },
     "execution_count": 316,
     "metadata": {},
     "output_type": "execute_result"
    }
   ],
   "source": [
    "df[[\"star_rating\",\"title\"]]"
   ]
  },
  {
   "cell_type": "code",
   "execution_count": 317,
   "id": "9902bb17",
   "metadata": {},
   "outputs": [
    {
     "data": {
      "text/plain": [
       "0      142\n",
       "1      175\n",
       "2      200\n",
       "3      152\n",
       "4      154\n",
       "      ... \n",
       "974    116\n",
       "975    118\n",
       "976    138\n",
       "977    114\n",
       "978    126\n",
       "Name: duration, Length: 979, dtype: int64"
      ]
     },
     "execution_count": 317,
     "metadata": {},
     "output_type": "execute_result"
    }
   ],
   "source": [
    "df[\"duration\"]"
   ]
  },
  {
   "cell_type": "code",
   "execution_count": 318,
   "id": "46009c8e",
   "metadata": {},
   "outputs": [
    {
     "data": {
      "text/plain": [
       "120.97957099080695"
      ]
     },
     "execution_count": 318,
     "metadata": {},
     "output_type": "execute_result"
    }
   ],
   "source": [
    "df[\"duration\"].mean()"
   ]
  },
  {
   "cell_type": "code",
   "execution_count": 319,
   "id": "70936ee9",
   "metadata": {},
   "outputs": [
    {
     "data": {
      "text/plain": [
       "117.0"
      ]
     },
     "execution_count": 319,
     "metadata": {},
     "output_type": "execute_result"
    }
   ],
   "source": [
    "df[\"duration\"].median()"
   ]
  },
  {
   "cell_type": "code",
   "execution_count": 320,
   "id": "6446c81f",
   "metadata": {},
   "outputs": [
    {
     "data": {
      "text/html": [
       "<div>\n",
       "<style scoped>\n",
       "    .dataframe tbody tr th:only-of-type {\n",
       "        vertical-align: middle;\n",
       "    }\n",
       "\n",
       "    .dataframe tbody tr th {\n",
       "        vertical-align: top;\n",
       "    }\n",
       "\n",
       "    .dataframe thead th {\n",
       "        text-align: right;\n",
       "    }\n",
       "</style>\n",
       "<table border=\"1\" class=\"dataframe\">\n",
       "  <thead>\n",
       "    <tr style=\"text-align: right;\">\n",
       "      <th></th>\n",
       "      <th>star_rating</th>\n",
       "      <th>duration</th>\n",
       "    </tr>\n",
       "  </thead>\n",
       "  <tbody>\n",
       "    <tr>\n",
       "      <th>count</th>\n",
       "      <td>979.000000</td>\n",
       "      <td>979.000000</td>\n",
       "    </tr>\n",
       "    <tr>\n",
       "      <th>mean</th>\n",
       "      <td>7.889785</td>\n",
       "      <td>120.979571</td>\n",
       "    </tr>\n",
       "    <tr>\n",
       "      <th>std</th>\n",
       "      <td>0.336069</td>\n",
       "      <td>26.218010</td>\n",
       "    </tr>\n",
       "    <tr>\n",
       "      <th>min</th>\n",
       "      <td>7.400000</td>\n",
       "      <td>64.000000</td>\n",
       "    </tr>\n",
       "    <tr>\n",
       "      <th>25%</th>\n",
       "      <td>7.600000</td>\n",
       "      <td>102.000000</td>\n",
       "    </tr>\n",
       "    <tr>\n",
       "      <th>50%</th>\n",
       "      <td>7.800000</td>\n",
       "      <td>117.000000</td>\n",
       "    </tr>\n",
       "    <tr>\n",
       "      <th>75%</th>\n",
       "      <td>8.100000</td>\n",
       "      <td>134.000000</td>\n",
       "    </tr>\n",
       "    <tr>\n",
       "      <th>max</th>\n",
       "      <td>9.300000</td>\n",
       "      <td>242.000000</td>\n",
       "    </tr>\n",
       "  </tbody>\n",
       "</table>\n",
       "</div>"
      ],
      "text/plain": [
       "       star_rating    duration\n",
       "count   979.000000  979.000000\n",
       "mean      7.889785  120.979571\n",
       "std       0.336069   26.218010\n",
       "min       7.400000   64.000000\n",
       "25%       7.600000  102.000000\n",
       "50%       7.800000  117.000000\n",
       "75%       8.100000  134.000000\n",
       "max       9.300000  242.000000"
      ]
     },
     "execution_count": 320,
     "metadata": {},
     "output_type": "execute_result"
    }
   ],
   "source": [
    "df.describe()"
   ]
  },
  {
   "cell_type": "markdown",
   "id": "1e589ba3",
   "metadata": {},
   "source": [
    "mean(duration)>median(duration), therefore positvely skewed and there is a chance of Outlier in the data."
   ]
  },
  {
   "cell_type": "code",
   "execution_count": 321,
   "id": "443614ac",
   "metadata": {},
   "outputs": [
    {
     "data": {
      "text/html": [
       "<div>\n",
       "<style scoped>\n",
       "    .dataframe tbody tr th:only-of-type {\n",
       "        vertical-align: middle;\n",
       "    }\n",
       "\n",
       "    .dataframe tbody tr th {\n",
       "        vertical-align: top;\n",
       "    }\n",
       "\n",
       "    .dataframe thead th {\n",
       "        text-align: right;\n",
       "    }\n",
       "</style>\n",
       "<table border=\"1\" class=\"dataframe\">\n",
       "  <thead>\n",
       "    <tr style=\"text-align: right;\">\n",
       "      <th></th>\n",
       "      <th>Rank</th>\n",
       "      <th>Name</th>\n",
       "      <th>Age</th>\n",
       "      <th>Gender</th>\n",
       "      <th>Background</th>\n",
       "      <th>Python</th>\n",
       "      <th>Machine Learning</th>\n",
       "    </tr>\n",
       "  </thead>\n",
       "  <tbody>\n",
       "    <tr>\n",
       "      <th>0</th>\n",
       "      <td>Rank 1</td>\n",
       "      <td>Ravi</td>\n",
       "      <td>23</td>\n",
       "      <td>Male</td>\n",
       "      <td>Tech</td>\n",
       "      <td>89</td>\n",
       "      <td>95</td>\n",
       "    </tr>\n",
       "    <tr>\n",
       "      <th>1</th>\n",
       "      <td>Rank 2</td>\n",
       "      <td>Chandni</td>\n",
       "      <td>22</td>\n",
       "      <td>Female</td>\n",
       "      <td>Non-Tech</td>\n",
       "      <td>78</td>\n",
       "      <td>83</td>\n",
       "    </tr>\n",
       "    <tr>\n",
       "      <th>2</th>\n",
       "      <td>Rank 3</td>\n",
       "      <td>Gyanesh</td>\n",
       "      <td>25</td>\n",
       "      <td>Male</td>\n",
       "      <td>Tech</td>\n",
       "      <td>70</td>\n",
       "      <td>80</td>\n",
       "    </tr>\n",
       "    <tr>\n",
       "      <th>3</th>\n",
       "      <td>Rank 4</td>\n",
       "      <td>Rahul</td>\n",
       "      <td>22</td>\n",
       "      <td>Male</td>\n",
       "      <td>Tech</td>\n",
       "      <td>68</td>\n",
       "      <td>75</td>\n",
       "    </tr>\n",
       "    <tr>\n",
       "      <th>4</th>\n",
       "      <td>Rank 5</td>\n",
       "      <td>Kartik</td>\n",
       "      <td>23</td>\n",
       "      <td>Male</td>\n",
       "      <td>Tech</td>\n",
       "      <td>60</td>\n",
       "      <td>70</td>\n",
       "    </tr>\n",
       "    <tr>\n",
       "      <th>5</th>\n",
       "      <td>Rank 6</td>\n",
       "      <td>Pratiksha</td>\n",
       "      <td>24</td>\n",
       "      <td>Female</td>\n",
       "      <td>Non-Tech</td>\n",
       "      <td>58</td>\n",
       "      <td>55</td>\n",
       "    </tr>\n",
       "    <tr>\n",
       "      <th>6</th>\n",
       "      <td>Rank 7</td>\n",
       "      <td>Maya</td>\n",
       "      <td>22</td>\n",
       "      <td>Female</td>\n",
       "      <td>Non-Tech</td>\n",
       "      <td>55</td>\n",
       "      <td>50</td>\n",
       "    </tr>\n",
       "    <tr>\n",
       "      <th>7</th>\n",
       "      <td>Rank 8</td>\n",
       "      <td>Shani</td>\n",
       "      <td>21</td>\n",
       "      <td>Male</td>\n",
       "      <td>Tech</td>\n",
       "      <td>50</td>\n",
       "      <td>50</td>\n",
       "    </tr>\n",
       "    <tr>\n",
       "      <th>8</th>\n",
       "      <td>Rank 9</td>\n",
       "      <td>Neelam</td>\n",
       "      <td>24</td>\n",
       "      <td>Female</td>\n",
       "      <td>Non-Tech</td>\n",
       "      <td>50</td>\n",
       "      <td>47</td>\n",
       "    </tr>\n",
       "    <tr>\n",
       "      <th>9</th>\n",
       "      <td>Rank 10</td>\n",
       "      <td>Mangal</td>\n",
       "      <td>22</td>\n",
       "      <td>Male</td>\n",
       "      <td>Non-Tech</td>\n",
       "      <td>45</td>\n",
       "      <td>46</td>\n",
       "    </tr>\n",
       "  </tbody>\n",
       "</table>\n",
       "</div>"
      ],
      "text/plain": [
       "      Rank       Name  Age  Gender Background  Python  Machine Learning\n",
       "0   Rank 1       Ravi   23    Male       Tech      89                95\n",
       "1   Rank 2    Chandni   22  Female   Non-Tech      78                83\n",
       "2   Rank 3    Gyanesh   25    Male       Tech      70                80\n",
       "3   Rank 4      Rahul   22    Male       Tech      68                75\n",
       "4   Rank 5     Kartik   23    Male       Tech      60                70\n",
       "5   Rank 6  Pratiksha   24  Female   Non-Tech      58                55\n",
       "6   Rank 7       Maya   22  Female   Non-Tech      55                50\n",
       "7   Rank 8      Shani   21    Male       Tech      50                50\n",
       "8   Rank 9     Neelam   24  Female   Non-Tech      50                47\n",
       "9  Rank 10     Mangal   22    Male   Non-Tech      45                46"
      ]
     },
     "execution_count": 321,
     "metadata": {},
     "output_type": "execute_result"
    }
   ],
   "source": [
    "df=pd.read_csv(\"Studentsnew.csv\")\n",
    "df"
   ]
  },
  {
   "cell_type": "code",
   "execution_count": 322,
   "id": "65b188eb",
   "metadata": {},
   "outputs": [
    {
     "name": "stdout",
     "output_type": "stream",
     "text": [
      "<class 'pandas.core.frame.DataFrame'>\n",
      "RangeIndex: 10 entries, 0 to 9\n",
      "Data columns (total 7 columns):\n",
      " #   Column            Non-Null Count  Dtype \n",
      "---  ------            --------------  ----- \n",
      " 0   Rank              10 non-null     object\n",
      " 1   Name              10 non-null     object\n",
      " 2   Age               10 non-null     int64 \n",
      " 3   Gender            10 non-null     object\n",
      " 4   Background        10 non-null     object\n",
      " 5   Python            10 non-null     int64 \n",
      " 6   Machine Learning  10 non-null     int64 \n",
      "dtypes: int64(3), object(4)\n",
      "memory usage: 688.0+ bytes\n"
     ]
    }
   ],
   "source": [
    "df.info()"
   ]
  },
  {
   "cell_type": "code",
   "execution_count": 323,
   "id": "343b9e69",
   "metadata": {},
   "outputs": [
    {
     "data": {
      "text/html": [
       "<div>\n",
       "<style scoped>\n",
       "    .dataframe tbody tr th:only-of-type {\n",
       "        vertical-align: middle;\n",
       "    }\n",
       "\n",
       "    .dataframe tbody tr th {\n",
       "        vertical-align: top;\n",
       "    }\n",
       "\n",
       "    .dataframe thead th {\n",
       "        text-align: right;\n",
       "    }\n",
       "</style>\n",
       "<table border=\"1\" class=\"dataframe\">\n",
       "  <thead>\n",
       "    <tr style=\"text-align: right;\">\n",
       "      <th></th>\n",
       "      <th>Age</th>\n",
       "      <th>Python</th>\n",
       "      <th>Machine Learning</th>\n",
       "    </tr>\n",
       "  </thead>\n",
       "  <tbody>\n",
       "    <tr>\n",
       "      <th>count</th>\n",
       "      <td>10.000000</td>\n",
       "      <td>10.000000</td>\n",
       "      <td>10.000000</td>\n",
       "    </tr>\n",
       "    <tr>\n",
       "      <th>mean</th>\n",
       "      <td>22.800000</td>\n",
       "      <td>62.300000</td>\n",
       "      <td>65.100000</td>\n",
       "    </tr>\n",
       "    <tr>\n",
       "      <th>std</th>\n",
       "      <td>1.229273</td>\n",
       "      <td>13.864824</td>\n",
       "      <td>17.666352</td>\n",
       "    </tr>\n",
       "    <tr>\n",
       "      <th>min</th>\n",
       "      <td>21.000000</td>\n",
       "      <td>45.000000</td>\n",
       "      <td>46.000000</td>\n",
       "    </tr>\n",
       "    <tr>\n",
       "      <th>25%</th>\n",
       "      <td>22.000000</td>\n",
       "      <td>51.250000</td>\n",
       "      <td>50.000000</td>\n",
       "    </tr>\n",
       "    <tr>\n",
       "      <th>50%</th>\n",
       "      <td>22.500000</td>\n",
       "      <td>59.000000</td>\n",
       "      <td>62.500000</td>\n",
       "    </tr>\n",
       "    <tr>\n",
       "      <th>75%</th>\n",
       "      <td>23.750000</td>\n",
       "      <td>69.500000</td>\n",
       "      <td>78.750000</td>\n",
       "    </tr>\n",
       "    <tr>\n",
       "      <th>max</th>\n",
       "      <td>25.000000</td>\n",
       "      <td>89.000000</td>\n",
       "      <td>95.000000</td>\n",
       "    </tr>\n",
       "  </tbody>\n",
       "</table>\n",
       "</div>"
      ],
      "text/plain": [
       "             Age     Python  Machine Learning\n",
       "count  10.000000  10.000000         10.000000\n",
       "mean   22.800000  62.300000         65.100000\n",
       "std     1.229273  13.864824         17.666352\n",
       "min    21.000000  45.000000         46.000000\n",
       "25%    22.000000  51.250000         50.000000\n",
       "50%    22.500000  59.000000         62.500000\n",
       "75%    23.750000  69.500000         78.750000\n",
       "max    25.000000  89.000000         95.000000"
      ]
     },
     "execution_count": 323,
     "metadata": {},
     "output_type": "execute_result"
    }
   ],
   "source": [
    "df.describe()"
   ]
  },
  {
   "cell_type": "code",
   "execution_count": 324,
   "id": "96062117",
   "metadata": {},
   "outputs": [
    {
     "data": {
      "text/plain": [
       "0    89\n",
       "1    78\n",
       "2    70\n",
       "3    68\n",
       "4    60\n",
       "5    58\n",
       "6    55\n",
       "7    50\n",
       "8    50\n",
       "9    45\n",
       "Name: Python, dtype: int64"
      ]
     },
     "execution_count": 324,
     "metadata": {},
     "output_type": "execute_result"
    }
   ],
   "source": [
    "df.Python"
   ]
  },
  {
   "cell_type": "code",
   "execution_count": 325,
   "id": "b1cbda57",
   "metadata": {},
   "outputs": [
    {
     "data": {
      "text/plain": [
       "0    89\n",
       "1    78\n",
       "2    70\n",
       "3    68\n",
       "4    60\n",
       "5    58\n",
       "6    55\n",
       "7    50\n",
       "8    50\n",
       "9    45\n",
       "Name: Python, dtype: int64"
      ]
     },
     "execution_count": 325,
     "metadata": {},
     "output_type": "execute_result"
    }
   ],
   "source": [
    "df['Python']"
   ]
  },
  {
   "cell_type": "code",
   "execution_count": 326,
   "id": "a5e3f325",
   "metadata": {},
   "outputs": [],
   "source": [
    "#df.Machine Learning\n"
   ]
  },
  {
   "cell_type": "code",
   "execution_count": 327,
   "id": "8e5af492",
   "metadata": {},
   "outputs": [
    {
     "data": {
      "text/plain": [
       "0    95\n",
       "1    83\n",
       "2    80\n",
       "3    75\n",
       "4    70\n",
       "5    55\n",
       "6    50\n",
       "7    50\n",
       "8    47\n",
       "9    46\n",
       "Name: Machine Learning, dtype: int64"
      ]
     },
     "execution_count": 327,
     "metadata": {},
     "output_type": "execute_result"
    }
   ],
   "source": [
    "df[\"Machine Learning\"]"
   ]
  },
  {
   "cell_type": "code",
   "execution_count": 328,
   "id": "9d701544",
   "metadata": {},
   "outputs": [
    {
     "data": {
      "text/plain": [
       "'CD'"
      ]
     },
     "execution_count": 328,
     "metadata": {},
     "output_type": "execute_result"
    }
   ],
   "source": [
    "\"C\"+\"D\""
   ]
  },
  {
   "cell_type": "code",
   "execution_count": 329,
   "id": "f1193993",
   "metadata": {},
   "outputs": [
    {
     "data": {
      "text/plain": [
       "30"
      ]
     },
     "execution_count": 329,
     "metadata": {},
     "output_type": "execute_result"
    }
   ],
   "source": [
    "a=10\n",
    "b=20\n",
    "a+b"
   ]
  },
  {
   "cell_type": "code",
   "execution_count": 330,
   "id": "f5431a18",
   "metadata": {},
   "outputs": [
    {
     "data": {
      "text/plain": [
       "0    184\n",
       "1    161\n",
       "2    150\n",
       "3    143\n",
       "4    130\n",
       "5    113\n",
       "6    105\n",
       "7    100\n",
       "8     97\n",
       "9     91\n",
       "dtype: int64"
      ]
     },
     "execution_count": 330,
     "metadata": {},
     "output_type": "execute_result"
    }
   ],
   "source": [
    "df[\"Python\"]+df[\"Machine Learning\"]"
   ]
  },
  {
   "cell_type": "code",
   "execution_count": 331,
   "id": "8e60631d",
   "metadata": {},
   "outputs": [
    {
     "data": {
      "text/html": [
       "<div>\n",
       "<style scoped>\n",
       "    .dataframe tbody tr th:only-of-type {\n",
       "        vertical-align: middle;\n",
       "    }\n",
       "\n",
       "    .dataframe tbody tr th {\n",
       "        vertical-align: top;\n",
       "    }\n",
       "\n",
       "    .dataframe thead th {\n",
       "        text-align: right;\n",
       "    }\n",
       "</style>\n",
       "<table border=\"1\" class=\"dataframe\">\n",
       "  <thead>\n",
       "    <tr style=\"text-align: right;\">\n",
       "      <th></th>\n",
       "      <th>Rank</th>\n",
       "      <th>Name</th>\n",
       "      <th>Age</th>\n",
       "      <th>Gender</th>\n",
       "      <th>Background</th>\n",
       "      <th>Python</th>\n",
       "      <th>Machine Learning</th>\n",
       "    </tr>\n",
       "  </thead>\n",
       "  <tbody>\n",
       "    <tr>\n",
       "      <th>0</th>\n",
       "      <td>Rank 1</td>\n",
       "      <td>Ravi</td>\n",
       "      <td>23</td>\n",
       "      <td>Male</td>\n",
       "      <td>Tech</td>\n",
       "      <td>89</td>\n",
       "      <td>95</td>\n",
       "    </tr>\n",
       "    <tr>\n",
       "      <th>1</th>\n",
       "      <td>Rank 2</td>\n",
       "      <td>Chandni</td>\n",
       "      <td>22</td>\n",
       "      <td>Female</td>\n",
       "      <td>Non-Tech</td>\n",
       "      <td>78</td>\n",
       "      <td>83</td>\n",
       "    </tr>\n",
       "    <tr>\n",
       "      <th>2</th>\n",
       "      <td>Rank 3</td>\n",
       "      <td>Gyanesh</td>\n",
       "      <td>25</td>\n",
       "      <td>Male</td>\n",
       "      <td>Tech</td>\n",
       "      <td>70</td>\n",
       "      <td>80</td>\n",
       "    </tr>\n",
       "    <tr>\n",
       "      <th>3</th>\n",
       "      <td>Rank 4</td>\n",
       "      <td>Rahul</td>\n",
       "      <td>22</td>\n",
       "      <td>Male</td>\n",
       "      <td>Tech</td>\n",
       "      <td>68</td>\n",
       "      <td>75</td>\n",
       "    </tr>\n",
       "    <tr>\n",
       "      <th>4</th>\n",
       "      <td>Rank 5</td>\n",
       "      <td>Kartik</td>\n",
       "      <td>23</td>\n",
       "      <td>Male</td>\n",
       "      <td>Tech</td>\n",
       "      <td>60</td>\n",
       "      <td>70</td>\n",
       "    </tr>\n",
       "  </tbody>\n",
       "</table>\n",
       "</div>"
      ],
      "text/plain": [
       "     Rank     Name  Age  Gender Background  Python  Machine Learning\n",
       "0  Rank 1     Ravi   23    Male       Tech      89                95\n",
       "1  Rank 2  Chandni   22  Female   Non-Tech      78                83\n",
       "2  Rank 3  Gyanesh   25    Male       Tech      70                80\n",
       "3  Rank 4    Rahul   22    Male       Tech      68                75\n",
       "4  Rank 5   Kartik   23    Male       Tech      60                70"
      ]
     },
     "execution_count": 331,
     "metadata": {},
     "output_type": "execute_result"
    }
   ],
   "source": [
    "df.head()"
   ]
  },
  {
   "cell_type": "code",
   "execution_count": 332,
   "id": "5d28a003",
   "metadata": {},
   "outputs": [
    {
     "data": {
      "text/plain": [
       "0    184\n",
       "1    161\n",
       "2    150\n",
       "3    143\n",
       "4    130\n",
       "5    113\n",
       "6    105\n",
       "7    100\n",
       "8     97\n",
       "9     91\n",
       "Name: Total, dtype: int64"
      ]
     },
     "execution_count": 332,
     "metadata": {},
     "output_type": "execute_result"
    }
   ],
   "source": [
    "df[\"Total\"]=df[\"Python\"]+df[\"Machine Learning\"]\n",
    "df[\"Total\"]"
   ]
  },
  {
   "cell_type": "code",
   "execution_count": 333,
   "id": "a380ae63",
   "metadata": {},
   "outputs": [
    {
     "data": {
      "text/html": [
       "<div>\n",
       "<style scoped>\n",
       "    .dataframe tbody tr th:only-of-type {\n",
       "        vertical-align: middle;\n",
       "    }\n",
       "\n",
       "    .dataframe tbody tr th {\n",
       "        vertical-align: top;\n",
       "    }\n",
       "\n",
       "    .dataframe thead th {\n",
       "        text-align: right;\n",
       "    }\n",
       "</style>\n",
       "<table border=\"1\" class=\"dataframe\">\n",
       "  <thead>\n",
       "    <tr style=\"text-align: right;\">\n",
       "      <th></th>\n",
       "      <th>Rank</th>\n",
       "      <th>Name</th>\n",
       "      <th>Age</th>\n",
       "      <th>Gender</th>\n",
       "      <th>Background</th>\n",
       "      <th>Python</th>\n",
       "      <th>Machine Learning</th>\n",
       "      <th>Total</th>\n",
       "    </tr>\n",
       "  </thead>\n",
       "  <tbody>\n",
       "    <tr>\n",
       "      <th>0</th>\n",
       "      <td>Rank 1</td>\n",
       "      <td>Ravi</td>\n",
       "      <td>23</td>\n",
       "      <td>Male</td>\n",
       "      <td>Tech</td>\n",
       "      <td>89</td>\n",
       "      <td>95</td>\n",
       "      <td>184</td>\n",
       "    </tr>\n",
       "    <tr>\n",
       "      <th>1</th>\n",
       "      <td>Rank 2</td>\n",
       "      <td>Chandni</td>\n",
       "      <td>22</td>\n",
       "      <td>Female</td>\n",
       "      <td>Non-Tech</td>\n",
       "      <td>78</td>\n",
       "      <td>83</td>\n",
       "      <td>161</td>\n",
       "    </tr>\n",
       "    <tr>\n",
       "      <th>2</th>\n",
       "      <td>Rank 3</td>\n",
       "      <td>Gyanesh</td>\n",
       "      <td>25</td>\n",
       "      <td>Male</td>\n",
       "      <td>Tech</td>\n",
       "      <td>70</td>\n",
       "      <td>80</td>\n",
       "      <td>150</td>\n",
       "    </tr>\n",
       "    <tr>\n",
       "      <th>3</th>\n",
       "      <td>Rank 4</td>\n",
       "      <td>Rahul</td>\n",
       "      <td>22</td>\n",
       "      <td>Male</td>\n",
       "      <td>Tech</td>\n",
       "      <td>68</td>\n",
       "      <td>75</td>\n",
       "      <td>143</td>\n",
       "    </tr>\n",
       "    <tr>\n",
       "      <th>4</th>\n",
       "      <td>Rank 5</td>\n",
       "      <td>Kartik</td>\n",
       "      <td>23</td>\n",
       "      <td>Male</td>\n",
       "      <td>Tech</td>\n",
       "      <td>60</td>\n",
       "      <td>70</td>\n",
       "      <td>130</td>\n",
       "    </tr>\n",
       "    <tr>\n",
       "      <th>5</th>\n",
       "      <td>Rank 6</td>\n",
       "      <td>Pratiksha</td>\n",
       "      <td>24</td>\n",
       "      <td>Female</td>\n",
       "      <td>Non-Tech</td>\n",
       "      <td>58</td>\n",
       "      <td>55</td>\n",
       "      <td>113</td>\n",
       "    </tr>\n",
       "    <tr>\n",
       "      <th>6</th>\n",
       "      <td>Rank 7</td>\n",
       "      <td>Maya</td>\n",
       "      <td>22</td>\n",
       "      <td>Female</td>\n",
       "      <td>Non-Tech</td>\n",
       "      <td>55</td>\n",
       "      <td>50</td>\n",
       "      <td>105</td>\n",
       "    </tr>\n",
       "    <tr>\n",
       "      <th>7</th>\n",
       "      <td>Rank 8</td>\n",
       "      <td>Shani</td>\n",
       "      <td>21</td>\n",
       "      <td>Male</td>\n",
       "      <td>Tech</td>\n",
       "      <td>50</td>\n",
       "      <td>50</td>\n",
       "      <td>100</td>\n",
       "    </tr>\n",
       "    <tr>\n",
       "      <th>8</th>\n",
       "      <td>Rank 9</td>\n",
       "      <td>Neelam</td>\n",
       "      <td>24</td>\n",
       "      <td>Female</td>\n",
       "      <td>Non-Tech</td>\n",
       "      <td>50</td>\n",
       "      <td>47</td>\n",
       "      <td>97</td>\n",
       "    </tr>\n",
       "    <tr>\n",
       "      <th>9</th>\n",
       "      <td>Rank 10</td>\n",
       "      <td>Mangal</td>\n",
       "      <td>22</td>\n",
       "      <td>Male</td>\n",
       "      <td>Non-Tech</td>\n",
       "      <td>45</td>\n",
       "      <td>46</td>\n",
       "      <td>91</td>\n",
       "    </tr>\n",
       "  </tbody>\n",
       "</table>\n",
       "</div>"
      ],
      "text/plain": [
       "      Rank       Name  Age  Gender Background  Python  Machine Learning  Total\n",
       "0   Rank 1       Ravi   23    Male       Tech      89                95    184\n",
       "1   Rank 2    Chandni   22  Female   Non-Tech      78                83    161\n",
       "2   Rank 3    Gyanesh   25    Male       Tech      70                80    150\n",
       "3   Rank 4      Rahul   22    Male       Tech      68                75    143\n",
       "4   Rank 5     Kartik   23    Male       Tech      60                70    130\n",
       "5   Rank 6  Pratiksha   24  Female   Non-Tech      58                55    113\n",
       "6   Rank 7       Maya   22  Female   Non-Tech      55                50    105\n",
       "7   Rank 8      Shani   21    Male       Tech      50                50    100\n",
       "8   Rank 9     Neelam   24  Female   Non-Tech      50                47     97\n",
       "9  Rank 10     Mangal   22    Male   Non-Tech      45                46     91"
      ]
     },
     "execution_count": 333,
     "metadata": {},
     "output_type": "execute_result"
    }
   ],
   "source": [
    "df"
   ]
  },
  {
   "cell_type": "code",
   "execution_count": 334,
   "id": "2a532e8a",
   "metadata": {},
   "outputs": [],
   "source": [
    "cities=[\"Mumbai\",\"Mumbai\",\"Mumbai\",\"Pune\",\"Delhi\",\"Delhi\",\"Delhi\",\"Delhi\",\"Pune\",\"Banglore\"]\n",
    "df[\"City\"]=cities"
   ]
  },
  {
   "cell_type": "code",
   "execution_count": 335,
   "id": "b7833f20",
   "metadata": {},
   "outputs": [
    {
     "data": {
      "text/html": [
       "<div>\n",
       "<style scoped>\n",
       "    .dataframe tbody tr th:only-of-type {\n",
       "        vertical-align: middle;\n",
       "    }\n",
       "\n",
       "    .dataframe tbody tr th {\n",
       "        vertical-align: top;\n",
       "    }\n",
       "\n",
       "    .dataframe thead th {\n",
       "        text-align: right;\n",
       "    }\n",
       "</style>\n",
       "<table border=\"1\" class=\"dataframe\">\n",
       "  <thead>\n",
       "    <tr style=\"text-align: right;\">\n",
       "      <th></th>\n",
       "      <th>Rank</th>\n",
       "      <th>Name</th>\n",
       "      <th>Age</th>\n",
       "      <th>Gender</th>\n",
       "      <th>Background</th>\n",
       "      <th>Python</th>\n",
       "      <th>Machine Learning</th>\n",
       "      <th>Total</th>\n",
       "      <th>City</th>\n",
       "    </tr>\n",
       "  </thead>\n",
       "  <tbody>\n",
       "    <tr>\n",
       "      <th>0</th>\n",
       "      <td>Rank 1</td>\n",
       "      <td>Ravi</td>\n",
       "      <td>23</td>\n",
       "      <td>Male</td>\n",
       "      <td>Tech</td>\n",
       "      <td>89</td>\n",
       "      <td>95</td>\n",
       "      <td>184</td>\n",
       "      <td>Mumbai</td>\n",
       "    </tr>\n",
       "    <tr>\n",
       "      <th>1</th>\n",
       "      <td>Rank 2</td>\n",
       "      <td>Chandni</td>\n",
       "      <td>22</td>\n",
       "      <td>Female</td>\n",
       "      <td>Non-Tech</td>\n",
       "      <td>78</td>\n",
       "      <td>83</td>\n",
       "      <td>161</td>\n",
       "      <td>Mumbai</td>\n",
       "    </tr>\n",
       "    <tr>\n",
       "      <th>2</th>\n",
       "      <td>Rank 3</td>\n",
       "      <td>Gyanesh</td>\n",
       "      <td>25</td>\n",
       "      <td>Male</td>\n",
       "      <td>Tech</td>\n",
       "      <td>70</td>\n",
       "      <td>80</td>\n",
       "      <td>150</td>\n",
       "      <td>Mumbai</td>\n",
       "    </tr>\n",
       "    <tr>\n",
       "      <th>3</th>\n",
       "      <td>Rank 4</td>\n",
       "      <td>Rahul</td>\n",
       "      <td>22</td>\n",
       "      <td>Male</td>\n",
       "      <td>Tech</td>\n",
       "      <td>68</td>\n",
       "      <td>75</td>\n",
       "      <td>143</td>\n",
       "      <td>Pune</td>\n",
       "    </tr>\n",
       "    <tr>\n",
       "      <th>4</th>\n",
       "      <td>Rank 5</td>\n",
       "      <td>Kartik</td>\n",
       "      <td>23</td>\n",
       "      <td>Male</td>\n",
       "      <td>Tech</td>\n",
       "      <td>60</td>\n",
       "      <td>70</td>\n",
       "      <td>130</td>\n",
       "      <td>Delhi</td>\n",
       "    </tr>\n",
       "    <tr>\n",
       "      <th>5</th>\n",
       "      <td>Rank 6</td>\n",
       "      <td>Pratiksha</td>\n",
       "      <td>24</td>\n",
       "      <td>Female</td>\n",
       "      <td>Non-Tech</td>\n",
       "      <td>58</td>\n",
       "      <td>55</td>\n",
       "      <td>113</td>\n",
       "      <td>Delhi</td>\n",
       "    </tr>\n",
       "    <tr>\n",
       "      <th>6</th>\n",
       "      <td>Rank 7</td>\n",
       "      <td>Maya</td>\n",
       "      <td>22</td>\n",
       "      <td>Female</td>\n",
       "      <td>Non-Tech</td>\n",
       "      <td>55</td>\n",
       "      <td>50</td>\n",
       "      <td>105</td>\n",
       "      <td>Delhi</td>\n",
       "    </tr>\n",
       "    <tr>\n",
       "      <th>7</th>\n",
       "      <td>Rank 8</td>\n",
       "      <td>Shani</td>\n",
       "      <td>21</td>\n",
       "      <td>Male</td>\n",
       "      <td>Tech</td>\n",
       "      <td>50</td>\n",
       "      <td>50</td>\n",
       "      <td>100</td>\n",
       "      <td>Delhi</td>\n",
       "    </tr>\n",
       "    <tr>\n",
       "      <th>8</th>\n",
       "      <td>Rank 9</td>\n",
       "      <td>Neelam</td>\n",
       "      <td>24</td>\n",
       "      <td>Female</td>\n",
       "      <td>Non-Tech</td>\n",
       "      <td>50</td>\n",
       "      <td>47</td>\n",
       "      <td>97</td>\n",
       "      <td>Pune</td>\n",
       "    </tr>\n",
       "    <tr>\n",
       "      <th>9</th>\n",
       "      <td>Rank 10</td>\n",
       "      <td>Mangal</td>\n",
       "      <td>22</td>\n",
       "      <td>Male</td>\n",
       "      <td>Non-Tech</td>\n",
       "      <td>45</td>\n",
       "      <td>46</td>\n",
       "      <td>91</td>\n",
       "      <td>Banglore</td>\n",
       "    </tr>\n",
       "  </tbody>\n",
       "</table>\n",
       "</div>"
      ],
      "text/plain": [
       "      Rank       Name  Age  Gender Background  Python  Machine Learning  \\\n",
       "0   Rank 1       Ravi   23    Male       Tech      89                95   \n",
       "1   Rank 2    Chandni   22  Female   Non-Tech      78                83   \n",
       "2   Rank 3    Gyanesh   25    Male       Tech      70                80   \n",
       "3   Rank 4      Rahul   22    Male       Tech      68                75   \n",
       "4   Rank 5     Kartik   23    Male       Tech      60                70   \n",
       "5   Rank 6  Pratiksha   24  Female   Non-Tech      58                55   \n",
       "6   Rank 7       Maya   22  Female   Non-Tech      55                50   \n",
       "7   Rank 8      Shani   21    Male       Tech      50                50   \n",
       "8   Rank 9     Neelam   24  Female   Non-Tech      50                47   \n",
       "9  Rank 10     Mangal   22    Male   Non-Tech      45                46   \n",
       "\n",
       "   Total      City  \n",
       "0    184    Mumbai  \n",
       "1    161    Mumbai  \n",
       "2    150    Mumbai  \n",
       "3    143      Pune  \n",
       "4    130     Delhi  \n",
       "5    113     Delhi  \n",
       "6    105     Delhi  \n",
       "7    100     Delhi  \n",
       "8     97      Pune  \n",
       "9     91  Banglore  "
      ]
     },
     "execution_count": 335,
     "metadata": {},
     "output_type": "execute_result"
    }
   ],
   "source": [
    "df"
   ]
  },
  {
   "cell_type": "code",
   "execution_count": 336,
   "id": "573d0845",
   "metadata": {},
   "outputs": [
    {
     "data": {
      "text/plain": [
       "[1, 4, 9, 16]"
      ]
     },
     "execution_count": 336,
     "metadata": {},
     "output_type": "execute_result"
    }
   ],
   "source": [
    "f=lambda x:x**2\n",
    "m=[1,2,3,4]\n",
    "list(map(f,m))"
   ]
  },
  {
   "cell_type": "code",
   "execution_count": 337,
   "id": "eaa0ad19",
   "metadata": {},
   "outputs": [],
   "source": [
    "def getgrade(marks):\n",
    "    p=marks/2\n",
    "    if p>=75:\n",
    "        return \"A\"\n",
    "    elif p<75 and p>=60:\n",
    "        return \"B\"\n",
    "    elif p<60 and p>=35:\n",
    "        return \"C\"\n",
    "    else:\n",
    "        return \"F\"\n",
    "    \n",
    "df[\"Grade\"]=df[\"Total\"].apply(getgrade)"
   ]
  },
  {
   "cell_type": "code",
   "execution_count": 338,
   "id": "a6a5c848",
   "metadata": {},
   "outputs": [
    {
     "data": {
      "text/html": [
       "<div>\n",
       "<style scoped>\n",
       "    .dataframe tbody tr th:only-of-type {\n",
       "        vertical-align: middle;\n",
       "    }\n",
       "\n",
       "    .dataframe tbody tr th {\n",
       "        vertical-align: top;\n",
       "    }\n",
       "\n",
       "    .dataframe thead th {\n",
       "        text-align: right;\n",
       "    }\n",
       "</style>\n",
       "<table border=\"1\" class=\"dataframe\">\n",
       "  <thead>\n",
       "    <tr style=\"text-align: right;\">\n",
       "      <th></th>\n",
       "      <th>Rank</th>\n",
       "      <th>Name</th>\n",
       "      <th>Age</th>\n",
       "      <th>Gender</th>\n",
       "      <th>Background</th>\n",
       "      <th>Python</th>\n",
       "      <th>Machine Learning</th>\n",
       "      <th>Total</th>\n",
       "      <th>City</th>\n",
       "      <th>Grade</th>\n",
       "    </tr>\n",
       "  </thead>\n",
       "  <tbody>\n",
       "    <tr>\n",
       "      <th>0</th>\n",
       "      <td>Rank 1</td>\n",
       "      <td>Ravi</td>\n",
       "      <td>23</td>\n",
       "      <td>Male</td>\n",
       "      <td>Tech</td>\n",
       "      <td>89</td>\n",
       "      <td>95</td>\n",
       "      <td>184</td>\n",
       "      <td>Mumbai</td>\n",
       "      <td>A</td>\n",
       "    </tr>\n",
       "    <tr>\n",
       "      <th>1</th>\n",
       "      <td>Rank 2</td>\n",
       "      <td>Chandni</td>\n",
       "      <td>22</td>\n",
       "      <td>Female</td>\n",
       "      <td>Non-Tech</td>\n",
       "      <td>78</td>\n",
       "      <td>83</td>\n",
       "      <td>161</td>\n",
       "      <td>Mumbai</td>\n",
       "      <td>A</td>\n",
       "    </tr>\n",
       "    <tr>\n",
       "      <th>2</th>\n",
       "      <td>Rank 3</td>\n",
       "      <td>Gyanesh</td>\n",
       "      <td>25</td>\n",
       "      <td>Male</td>\n",
       "      <td>Tech</td>\n",
       "      <td>70</td>\n",
       "      <td>80</td>\n",
       "      <td>150</td>\n",
       "      <td>Mumbai</td>\n",
       "      <td>A</td>\n",
       "    </tr>\n",
       "    <tr>\n",
       "      <th>3</th>\n",
       "      <td>Rank 4</td>\n",
       "      <td>Rahul</td>\n",
       "      <td>22</td>\n",
       "      <td>Male</td>\n",
       "      <td>Tech</td>\n",
       "      <td>68</td>\n",
       "      <td>75</td>\n",
       "      <td>143</td>\n",
       "      <td>Pune</td>\n",
       "      <td>B</td>\n",
       "    </tr>\n",
       "    <tr>\n",
       "      <th>4</th>\n",
       "      <td>Rank 5</td>\n",
       "      <td>Kartik</td>\n",
       "      <td>23</td>\n",
       "      <td>Male</td>\n",
       "      <td>Tech</td>\n",
       "      <td>60</td>\n",
       "      <td>70</td>\n",
       "      <td>130</td>\n",
       "      <td>Delhi</td>\n",
       "      <td>B</td>\n",
       "    </tr>\n",
       "    <tr>\n",
       "      <th>5</th>\n",
       "      <td>Rank 6</td>\n",
       "      <td>Pratiksha</td>\n",
       "      <td>24</td>\n",
       "      <td>Female</td>\n",
       "      <td>Non-Tech</td>\n",
       "      <td>58</td>\n",
       "      <td>55</td>\n",
       "      <td>113</td>\n",
       "      <td>Delhi</td>\n",
       "      <td>C</td>\n",
       "    </tr>\n",
       "    <tr>\n",
       "      <th>6</th>\n",
       "      <td>Rank 7</td>\n",
       "      <td>Maya</td>\n",
       "      <td>22</td>\n",
       "      <td>Female</td>\n",
       "      <td>Non-Tech</td>\n",
       "      <td>55</td>\n",
       "      <td>50</td>\n",
       "      <td>105</td>\n",
       "      <td>Delhi</td>\n",
       "      <td>C</td>\n",
       "    </tr>\n",
       "    <tr>\n",
       "      <th>7</th>\n",
       "      <td>Rank 8</td>\n",
       "      <td>Shani</td>\n",
       "      <td>21</td>\n",
       "      <td>Male</td>\n",
       "      <td>Tech</td>\n",
       "      <td>50</td>\n",
       "      <td>50</td>\n",
       "      <td>100</td>\n",
       "      <td>Delhi</td>\n",
       "      <td>C</td>\n",
       "    </tr>\n",
       "    <tr>\n",
       "      <th>8</th>\n",
       "      <td>Rank 9</td>\n",
       "      <td>Neelam</td>\n",
       "      <td>24</td>\n",
       "      <td>Female</td>\n",
       "      <td>Non-Tech</td>\n",
       "      <td>50</td>\n",
       "      <td>47</td>\n",
       "      <td>97</td>\n",
       "      <td>Pune</td>\n",
       "      <td>C</td>\n",
       "    </tr>\n",
       "    <tr>\n",
       "      <th>9</th>\n",
       "      <td>Rank 10</td>\n",
       "      <td>Mangal</td>\n",
       "      <td>22</td>\n",
       "      <td>Male</td>\n",
       "      <td>Non-Tech</td>\n",
       "      <td>45</td>\n",
       "      <td>46</td>\n",
       "      <td>91</td>\n",
       "      <td>Banglore</td>\n",
       "      <td>C</td>\n",
       "    </tr>\n",
       "  </tbody>\n",
       "</table>\n",
       "</div>"
      ],
      "text/plain": [
       "      Rank       Name  Age  Gender Background  Python  Machine Learning  \\\n",
       "0   Rank 1       Ravi   23    Male       Tech      89                95   \n",
       "1   Rank 2    Chandni   22  Female   Non-Tech      78                83   \n",
       "2   Rank 3    Gyanesh   25    Male       Tech      70                80   \n",
       "3   Rank 4      Rahul   22    Male       Tech      68                75   \n",
       "4   Rank 5     Kartik   23    Male       Tech      60                70   \n",
       "5   Rank 6  Pratiksha   24  Female   Non-Tech      58                55   \n",
       "6   Rank 7       Maya   22  Female   Non-Tech      55                50   \n",
       "7   Rank 8      Shani   21    Male       Tech      50                50   \n",
       "8   Rank 9     Neelam   24  Female   Non-Tech      50                47   \n",
       "9  Rank 10     Mangal   22    Male   Non-Tech      45                46   \n",
       "\n",
       "   Total      City Grade  \n",
       "0    184    Mumbai     A  \n",
       "1    161    Mumbai     A  \n",
       "2    150    Mumbai     A  \n",
       "3    143      Pune     B  \n",
       "4    130     Delhi     B  \n",
       "5    113     Delhi     C  \n",
       "6    105     Delhi     C  \n",
       "7    100     Delhi     C  \n",
       "8     97      Pune     C  \n",
       "9     91  Banglore     C  "
      ]
     },
     "execution_count": 338,
     "metadata": {},
     "output_type": "execute_result"
    }
   ],
   "source": [
    "df"
   ]
  },
  {
   "cell_type": "code",
   "execution_count": 339,
   "id": "a2d1ab97",
   "metadata": {},
   "outputs": [
    {
     "data": {
      "text/plain": [
       "(10, 10)"
      ]
     },
     "execution_count": 339,
     "metadata": {},
     "output_type": "execute_result"
    }
   ],
   "source": [
    "df.shape"
   ]
  },
  {
   "cell_type": "code",
   "execution_count": 340,
   "id": "c51db815",
   "metadata": {},
   "outputs": [
    {
     "data": {
      "text/plain": [
       "Rank                object\n",
       "Name                object\n",
       "Age                  int64\n",
       "Gender              object\n",
       "Background          object\n",
       "Python               int64\n",
       "Machine Learning     int64\n",
       "Total                int64\n",
       "City                object\n",
       "Grade               object\n",
       "dtype: object"
      ]
     },
     "execution_count": 340,
     "metadata": {},
     "output_type": "execute_result"
    }
   ],
   "source": [
    "df.dtypes"
   ]
  },
  {
   "cell_type": "code",
   "execution_count": 341,
   "id": "6ebc6cbc",
   "metadata": {},
   "outputs": [
    {
     "data": {
      "text/plain": [
       "49    a\n",
       "48    b\n",
       "47    c\n",
       "0     d\n",
       "1     e\n",
       "2     f\n",
       "dtype: object"
      ]
     },
     "execution_count": 341,
     "metadata": {},
     "output_type": "execute_result"
    }
   ],
   "source": [
    "s=pd.Series([\"a\",\"b\",\"c\",\"d\",\"e\",\"f\"],index=[49,48,47,0,1,2])\n",
    "s"
   ]
  },
  {
   "cell_type": "code",
   "execution_count": 342,
   "id": "ec63a883",
   "metadata": {},
   "outputs": [
    {
     "data": {
      "text/plain": [
       "'d'"
      ]
     },
     "execution_count": 342,
     "metadata": {},
     "output_type": "execute_result"
    }
   ],
   "source": [
    "s.loc[0] # value at index label 0"
   ]
  },
  {
   "cell_type": "code",
   "execution_count": 343,
   "id": "82be10c9",
   "metadata": {},
   "outputs": [
    {
     "data": {
      "text/plain": [
       "'a'"
      ]
     },
     "execution_count": 343,
     "metadata": {},
     "output_type": "execute_result"
    }
   ],
   "source": [
    "s.iloc[0] # value at index 0"
   ]
  },
  {
   "cell_type": "code",
   "execution_count": 344,
   "id": "a5d7ca23",
   "metadata": {},
   "outputs": [
    {
     "data": {
      "text/plain": [
       "0    d\n",
       "1    e\n",
       "2    f\n",
       "dtype: object"
      ]
     },
     "execution_count": 344,
     "metadata": {},
     "output_type": "execute_result"
    }
   ],
   "source": [
    "s.loc[0:2]"
   ]
  },
  {
   "cell_type": "code",
   "execution_count": 345,
   "id": "6f489e73",
   "metadata": {},
   "outputs": [
    {
     "data": {
      "text/plain": [
       "49    a\n",
       "48    b\n",
       "dtype: object"
      ]
     },
     "execution_count": 345,
     "metadata": {},
     "output_type": "execute_result"
    }
   ],
   "source": [
    "s.iloc[0:2]"
   ]
  },
  {
   "cell_type": "code",
   "execution_count": 346,
   "id": "7c559670",
   "metadata": {},
   "outputs": [
    {
     "data": {
      "text/plain": [
       "'Non-Tech'"
      ]
     },
     "execution_count": 346,
     "metadata": {},
     "output_type": "execute_result"
    }
   ],
   "source": [
    "df.loc[1,\"Background\"]"
   ]
  },
  {
   "cell_type": "code",
   "execution_count": 347,
   "id": "4a1933a2",
   "metadata": {},
   "outputs": [
    {
     "data": {
      "text/plain": [
       "'Non-Tech'"
      ]
     },
     "execution_count": 347,
     "metadata": {},
     "output_type": "execute_result"
    }
   ],
   "source": [
    "df.iloc[1,4]"
   ]
  },
  {
   "cell_type": "code",
   "execution_count": 348,
   "id": "9db39744",
   "metadata": {},
   "outputs": [
    {
     "data": {
      "text/plain": [
       "1    161\n",
       "2    150\n",
       "Name: Total, dtype: int64"
      ]
     },
     "execution_count": 348,
     "metadata": {},
     "output_type": "execute_result"
    }
   ],
   "source": [
    "df.loc[1:2,\"Total\"]"
   ]
  },
  {
   "cell_type": "code",
   "execution_count": 349,
   "id": "d56840a6",
   "metadata": {},
   "outputs": [
    {
     "data": {
      "text/plain": [
       "1    161\n",
       "2    150\n",
       "Name: Total, dtype: int64"
      ]
     },
     "execution_count": 349,
     "metadata": {},
     "output_type": "execute_result"
    }
   ],
   "source": [
    "df.iloc[1:3,7]"
   ]
  },
  {
   "cell_type": "code",
   "execution_count": 350,
   "id": "842060ab",
   "metadata": {},
   "outputs": [
    {
     "data": {
      "text/plain": [
       "array(['Tech', 'Non-Tech'], dtype=object)"
      ]
     },
     "execution_count": 350,
     "metadata": {},
     "output_type": "execute_result"
    }
   ],
   "source": [
    "df[\"Background\"].unique()"
   ]
  },
  {
   "cell_type": "code",
   "execution_count": 351,
   "id": "534ade06",
   "metadata": {},
   "outputs": [
    {
     "data": {
      "text/plain": [
       "array([184, 161, 150, 143, 130, 113, 105, 100,  97,  91], dtype=int64)"
      ]
     },
     "execution_count": 351,
     "metadata": {},
     "output_type": "execute_result"
    }
   ],
   "source": [
    "df[\"Total\"].unique()"
   ]
  },
  {
   "cell_type": "code",
   "execution_count": 352,
   "id": "216ddfd8",
   "metadata": {},
   "outputs": [
    {
     "data": {
      "text/plain": [
       "array(['Male', 'Female'], dtype=object)"
      ]
     },
     "execution_count": 352,
     "metadata": {},
     "output_type": "execute_result"
    }
   ],
   "source": [
    "df[\"Gender\"].unique()"
   ]
  },
  {
   "cell_type": "code",
   "execution_count": 353,
   "id": "c8a0b82f",
   "metadata": {},
   "outputs": [
    {
     "data": {
      "text/plain": [
       "Tech        5\n",
       "Non-Tech    5\n",
       "Name: Background, dtype: int64"
      ]
     },
     "execution_count": 353,
     "metadata": {},
     "output_type": "execute_result"
    }
   ],
   "source": [
    "df[\"Background\"].value_counts()"
   ]
  },
  {
   "cell_type": "code",
   "execution_count": 354,
   "id": "5539e15f",
   "metadata": {},
   "outputs": [
    {
     "data": {
      "text/plain": [
       "Male      6\n",
       "Female    4\n",
       "Name: Gender, dtype: int64"
      ]
     },
     "execution_count": 354,
     "metadata": {},
     "output_type": "execute_result"
    }
   ],
   "source": [
    "df[\"Gender\"].value_counts()"
   ]
  },
  {
   "cell_type": "code",
   "execution_count": 355,
   "id": "d6c311ea",
   "metadata": {},
   "outputs": [
    {
     "data": {
      "text/plain": [
       "5.0"
      ]
     },
     "execution_count": 355,
     "metadata": {},
     "output_type": "execute_result"
    }
   ],
   "source": [
    "df[\"Gender\"].value_counts().mean()"
   ]
  },
  {
   "cell_type": "code",
   "execution_count": 356,
   "id": "dd6e2cc1",
   "metadata": {},
   "outputs": [
    {
     "data": {
      "text/plain": [
       "2.5"
      ]
     },
     "execution_count": 356,
     "metadata": {},
     "output_type": "execute_result"
    }
   ],
   "source": [
    "df[\"City\"].value_counts().mean()"
   ]
  },
  {
   "cell_type": "code",
   "execution_count": 357,
   "id": "6db7dd63",
   "metadata": {},
   "outputs": [
    {
     "data": {
      "text/plain": [
       "165.0"
      ]
     },
     "execution_count": 357,
     "metadata": {},
     "output_type": "execute_result"
    }
   ],
   "source": [
    "df[df[\"City\"]==\"Mumbai\"][\"Total\"].mean()"
   ]
  },
  {
   "cell_type": "code",
   "execution_count": 358,
   "id": "6b1c088d",
   "metadata": {},
   "outputs": [
    {
     "data": {
      "text/plain": [
       "112.0"
      ]
     },
     "execution_count": 358,
     "metadata": {},
     "output_type": "execute_result"
    }
   ],
   "source": [
    "df[df[\"City\"]==\"Delhi\"][\"Total\"].mean()"
   ]
  },
  {
   "cell_type": "code",
   "execution_count": 359,
   "id": "b0f19cfe",
   "metadata": {},
   "outputs": [
    {
     "data": {
      "text/plain": [
       "City\n",
       "Banglore     91.0\n",
       "Delhi       112.0\n",
       "Mumbai      165.0\n",
       "Pune        120.0\n",
       "Name: Total, dtype: float64"
      ]
     },
     "execution_count": 359,
     "metadata": {},
     "output_type": "execute_result"
    }
   ],
   "source": [
    "df.groupby(\"City\")[\"Total\"].mean()"
   ]
  },
  {
   "cell_type": "code",
   "execution_count": 360,
   "id": "787e9840",
   "metadata": {},
   "outputs": [
    {
     "data": {
      "text/plain": [
       "<AxesSubplot:xlabel='City'>"
      ]
     },
     "execution_count": 360,
     "metadata": {},
     "output_type": "execute_result"
    },
    {
     "data": {
      "image/png": "[encoded data removed]",
      "text/plain": [
       "<Figure size 432x288 with 1 Axes>"
      ]
     },
     "metadata": {
      "needs_background": "light"
     },
     "output_type": "display_data"
    }
   ],
   "source": [
    "df.groupby(\"City\")[\"Total\"].mean().plot(kind='bar')"
   ]
  },
  {
   "cell_type": "code",
   "execution_count": 361,
   "id": "d47e9728",
   "metadata": {},
   "outputs": [
    {
     "data": {
      "text/plain": [
       "<AxesSubplot:xlabel='City'>"
      ]
     },
     "execution_count": 361,
     "metadata": {},
     "output_type": "execute_result"
    },
    {
     "data": {
      "image/png": "[encoded data removed]",
      "text/plain": [
       "<Figure size 432x288 with 1 Axes>"
      ]
     },
     "metadata": {
      "needs_background": "light"
     },
     "output_type": "display_data"
    }
   ],
   "source": [
    "df.groupby(\"City\")[\"Total\"].mean().sort_values(ascending=False).plot(kind='bar')"
   ]
  },
  {
   "cell_type": "code",
   "execution_count": 362,
   "id": "3e85df27",
   "metadata": {},
   "outputs": [
    {
     "data": {
      "text/html": [
       "<div>\n",
       "<style scoped>\n",
       "    .dataframe tbody tr th:only-of-type {\n",
       "        vertical-align: middle;\n",
       "    }\n",
       "\n",
       "    .dataframe tbody tr th {\n",
       "        vertical-align: top;\n",
       "    }\n",
       "\n",
       "    .dataframe thead th {\n",
       "        text-align: right;\n",
       "    }\n",
       "</style>\n",
       "<table border=\"1\" class=\"dataframe\">\n",
       "  <thead>\n",
       "    <tr style=\"text-align: right;\">\n",
       "      <th></th>\n",
       "      <th>Rank</th>\n",
       "      <th>Name</th>\n",
       "      <th>Age</th>\n",
       "      <th>Gender</th>\n",
       "      <th>Background</th>\n",
       "      <th>Python</th>\n",
       "      <th>Machine Learning</th>\n",
       "      <th>Total</th>\n",
       "      <th>City</th>\n",
       "      <th>Grade</th>\n",
       "    </tr>\n",
       "  </thead>\n",
       "  <tbody>\n",
       "    <tr>\n",
       "      <th>0</th>\n",
       "      <td>Rank 1</td>\n",
       "      <td>Ravi</td>\n",
       "      <td>23</td>\n",
       "      <td>Male</td>\n",
       "      <td>Tech</td>\n",
       "      <td>89</td>\n",
       "      <td>95</td>\n",
       "      <td>184</td>\n",
       "      <td>Mumbai</td>\n",
       "      <td>A</td>\n",
       "    </tr>\n",
       "    <tr>\n",
       "      <th>1</th>\n",
       "      <td>Rank 2</td>\n",
       "      <td>Chandni</td>\n",
       "      <td>22</td>\n",
       "      <td>Female</td>\n",
       "      <td>Non-Tech</td>\n",
       "      <td>78</td>\n",
       "      <td>83</td>\n",
       "      <td>161</td>\n",
       "      <td>Mumbai</td>\n",
       "      <td>A</td>\n",
       "    </tr>\n",
       "    <tr>\n",
       "      <th>2</th>\n",
       "      <td>Rank 3</td>\n",
       "      <td>Gyanesh</td>\n",
       "      <td>25</td>\n",
       "      <td>Male</td>\n",
       "      <td>Tech</td>\n",
       "      <td>70</td>\n",
       "      <td>80</td>\n",
       "      <td>150</td>\n",
       "      <td>Mumbai</td>\n",
       "      <td>A</td>\n",
       "    </tr>\n",
       "    <tr>\n",
       "      <th>3</th>\n",
       "      <td>Rank 4</td>\n",
       "      <td>Rahul</td>\n",
       "      <td>22</td>\n",
       "      <td>Male</td>\n",
       "      <td>Tech</td>\n",
       "      <td>68</td>\n",
       "      <td>75</td>\n",
       "      <td>143</td>\n",
       "      <td>Pune</td>\n",
       "      <td>B</td>\n",
       "    </tr>\n",
       "    <tr>\n",
       "      <th>4</th>\n",
       "      <td>Rank 5</td>\n",
       "      <td>Kartik</td>\n",
       "      <td>23</td>\n",
       "      <td>Male</td>\n",
       "      <td>Tech</td>\n",
       "      <td>60</td>\n",
       "      <td>70</td>\n",
       "      <td>130</td>\n",
       "      <td>Delhi</td>\n",
       "      <td>B</td>\n",
       "    </tr>\n",
       "    <tr>\n",
       "      <th>5</th>\n",
       "      <td>Rank 6</td>\n",
       "      <td>Pratiksha</td>\n",
       "      <td>24</td>\n",
       "      <td>Female</td>\n",
       "      <td>Non-Tech</td>\n",
       "      <td>58</td>\n",
       "      <td>55</td>\n",
       "      <td>113</td>\n",
       "      <td>Delhi</td>\n",
       "      <td>C</td>\n",
       "    </tr>\n",
       "    <tr>\n",
       "      <th>6</th>\n",
       "      <td>Rank 7</td>\n",
       "      <td>Maya</td>\n",
       "      <td>22</td>\n",
       "      <td>Female</td>\n",
       "      <td>Non-Tech</td>\n",
       "      <td>55</td>\n",
       "      <td>50</td>\n",
       "      <td>105</td>\n",
       "      <td>Delhi</td>\n",
       "      <td>C</td>\n",
       "    </tr>\n",
       "    <tr>\n",
       "      <th>7</th>\n",
       "      <td>Rank 8</td>\n",
       "      <td>Shani</td>\n",
       "      <td>21</td>\n",
       "      <td>Male</td>\n",
       "      <td>Tech</td>\n",
       "      <td>50</td>\n",
       "      <td>50</td>\n",
       "      <td>100</td>\n",
       "      <td>Delhi</td>\n",
       "      <td>C</td>\n",
       "    </tr>\n",
       "    <tr>\n",
       "      <th>8</th>\n",
       "      <td>Rank 9</td>\n",
       "      <td>Neelam</td>\n",
       "      <td>24</td>\n",
       "      <td>Female</td>\n",
       "      <td>Non-Tech</td>\n",
       "      <td>50</td>\n",
       "      <td>47</td>\n",
       "      <td>97</td>\n",
       "      <td>Pune</td>\n",
       "      <td>C</td>\n",
       "    </tr>\n",
       "    <tr>\n",
       "      <th>9</th>\n",
       "      <td>Rank 10</td>\n",
       "      <td>Mangal</td>\n",
       "      <td>22</td>\n",
       "      <td>Male</td>\n",
       "      <td>Non-Tech</td>\n",
       "      <td>45</td>\n",
       "      <td>46</td>\n",
       "      <td>91</td>\n",
       "      <td>Banglore</td>\n",
       "      <td>C</td>\n",
       "    </tr>\n",
       "  </tbody>\n",
       "</table>\n",
       "</div>"
      ],
      "text/plain": [
       "      Rank       Name  Age  Gender Background  Python  Machine Learning  \\\n",
       "0   Rank 1       Ravi   23    Male       Tech      89                95   \n",
       "1   Rank 2    Chandni   22  Female   Non-Tech      78                83   \n",
       "2   Rank 3    Gyanesh   25    Male       Tech      70                80   \n",
       "3   Rank 4      Rahul   22    Male       Tech      68                75   \n",
       "4   Rank 5     Kartik   23    Male       Tech      60                70   \n",
       "5   Rank 6  Pratiksha   24  Female   Non-Tech      58                55   \n",
       "6   Rank 7       Maya   22  Female   Non-Tech      55                50   \n",
       "7   Rank 8      Shani   21    Male       Tech      50                50   \n",
       "8   Rank 9     Neelam   24  Female   Non-Tech      50                47   \n",
       "9  Rank 10     Mangal   22    Male   Non-Tech      45                46   \n",
       "\n",
       "   Total      City Grade  \n",
       "0    184    Mumbai     A  \n",
       "1    161    Mumbai     A  \n",
       "2    150    Mumbai     A  \n",
       "3    143      Pune     B  \n",
       "4    130     Delhi     B  \n",
       "5    113     Delhi     C  \n",
       "6    105     Delhi     C  \n",
       "7    100     Delhi     C  \n",
       "8     97      Pune     C  \n",
       "9     91  Banglore     C  "
      ]
     },
     "execution_count": 362,
     "metadata": {},
     "output_type": "execute_result"
    }
   ],
   "source": [
    "df"
   ]
  },
  {
   "cell_type": "code",
   "execution_count": 363,
   "id": "37c34387",
   "metadata": {},
   "outputs": [
    {
     "data": {
      "text/html": [
       "<div>\n",
       "<style scoped>\n",
       "    .dataframe tbody tr th:only-of-type {\n",
       "        vertical-align: middle;\n",
       "    }\n",
       "\n",
       "    .dataframe tbody tr th {\n",
       "        vertical-align: top;\n",
       "    }\n",
       "\n",
       "    .dataframe thead th {\n",
       "        text-align: right;\n",
       "    }\n",
       "</style>\n",
       "<table border=\"1\" class=\"dataframe\">\n",
       "  <thead>\n",
       "    <tr style=\"text-align: right;\">\n",
       "      <th></th>\n",
       "      <th>Rank</th>\n",
       "      <th>Name</th>\n",
       "      <th>Age</th>\n",
       "      <th>Gender</th>\n",
       "      <th>Background</th>\n",
       "      <th>Python</th>\n",
       "      <th>Machine Learning</th>\n",
       "      <th>Total</th>\n",
       "      <th>City</th>\n",
       "      <th>Grade</th>\n",
       "    </tr>\n",
       "  </thead>\n",
       "  <tbody>\n",
       "    <tr>\n",
       "      <th>7</th>\n",
       "      <td>Rank 8</td>\n",
       "      <td>Shani</td>\n",
       "      <td>21</td>\n",
       "      <td>Male</td>\n",
       "      <td>Tech</td>\n",
       "      <td>50</td>\n",
       "      <td>50</td>\n",
       "      <td>100</td>\n",
       "      <td>Delhi</td>\n",
       "      <td>C</td>\n",
       "    </tr>\n",
       "    <tr>\n",
       "      <th>1</th>\n",
       "      <td>Rank 2</td>\n",
       "      <td>Chandni</td>\n",
       "      <td>22</td>\n",
       "      <td>Female</td>\n",
       "      <td>Non-Tech</td>\n",
       "      <td>78</td>\n",
       "      <td>83</td>\n",
       "      <td>161</td>\n",
       "      <td>Mumbai</td>\n",
       "      <td>A</td>\n",
       "    </tr>\n",
       "    <tr>\n",
       "      <th>3</th>\n",
       "      <td>Rank 4</td>\n",
       "      <td>Rahul</td>\n",
       "      <td>22</td>\n",
       "      <td>Male</td>\n",
       "      <td>Tech</td>\n",
       "      <td>68</td>\n",
       "      <td>75</td>\n",
       "      <td>143</td>\n",
       "      <td>Pune</td>\n",
       "      <td>B</td>\n",
       "    </tr>\n",
       "    <tr>\n",
       "      <th>6</th>\n",
       "      <td>Rank 7</td>\n",
       "      <td>Maya</td>\n",
       "      <td>22</td>\n",
       "      <td>Female</td>\n",
       "      <td>Non-Tech</td>\n",
       "      <td>55</td>\n",
       "      <td>50</td>\n",
       "      <td>105</td>\n",
       "      <td>Delhi</td>\n",
       "      <td>C</td>\n",
       "    </tr>\n",
       "    <tr>\n",
       "      <th>9</th>\n",
       "      <td>Rank 10</td>\n",
       "      <td>Mangal</td>\n",
       "      <td>22</td>\n",
       "      <td>Male</td>\n",
       "      <td>Non-Tech</td>\n",
       "      <td>45</td>\n",
       "      <td>46</td>\n",
       "      <td>91</td>\n",
       "      <td>Banglore</td>\n",
       "      <td>C</td>\n",
       "    </tr>\n",
       "    <tr>\n",
       "      <th>0</th>\n",
       "      <td>Rank 1</td>\n",
       "      <td>Ravi</td>\n",
       "      <td>23</td>\n",
       "      <td>Male</td>\n",
       "      <td>Tech</td>\n",
       "      <td>89</td>\n",
       "      <td>95</td>\n",
       "      <td>184</td>\n",
       "      <td>Mumbai</td>\n",
       "      <td>A</td>\n",
       "    </tr>\n",
       "    <tr>\n",
       "      <th>4</th>\n",
       "      <td>Rank 5</td>\n",
       "      <td>Kartik</td>\n",
       "      <td>23</td>\n",
       "      <td>Male</td>\n",
       "      <td>Tech</td>\n",
       "      <td>60</td>\n",
       "      <td>70</td>\n",
       "      <td>130</td>\n",
       "      <td>Delhi</td>\n",
       "      <td>B</td>\n",
       "    </tr>\n",
       "    <tr>\n",
       "      <th>5</th>\n",
       "      <td>Rank 6</td>\n",
       "      <td>Pratiksha</td>\n",
       "      <td>24</td>\n",
       "      <td>Female</td>\n",
       "      <td>Non-Tech</td>\n",
       "      <td>58</td>\n",
       "      <td>55</td>\n",
       "      <td>113</td>\n",
       "      <td>Delhi</td>\n",
       "      <td>C</td>\n",
       "    </tr>\n",
       "    <tr>\n",
       "      <th>8</th>\n",
       "      <td>Rank 9</td>\n",
       "      <td>Neelam</td>\n",
       "      <td>24</td>\n",
       "      <td>Female</td>\n",
       "      <td>Non-Tech</td>\n",
       "      <td>50</td>\n",
       "      <td>47</td>\n",
       "      <td>97</td>\n",
       "      <td>Pune</td>\n",
       "      <td>C</td>\n",
       "    </tr>\n",
       "    <tr>\n",
       "      <th>2</th>\n",
       "      <td>Rank 3</td>\n",
       "      <td>Gyanesh</td>\n",
       "      <td>25</td>\n",
       "      <td>Male</td>\n",
       "      <td>Tech</td>\n",
       "      <td>70</td>\n",
       "      <td>80</td>\n",
       "      <td>150</td>\n",
       "      <td>Mumbai</td>\n",
       "      <td>A</td>\n",
       "    </tr>\n",
       "  </tbody>\n",
       "</table>\n",
       "</div>"
      ],
      "text/plain": [
       "      Rank       Name  Age  Gender Background  Python  Machine Learning  \\\n",
       "7   Rank 8      Shani   21    Male       Tech      50                50   \n",
       "1   Rank 2    Chandni   22  Female   Non-Tech      78                83   \n",
       "3   Rank 4      Rahul   22    Male       Tech      68                75   \n",
       "6   Rank 7       Maya   22  Female   Non-Tech      55                50   \n",
       "9  Rank 10     Mangal   22    Male   Non-Tech      45                46   \n",
       "0   Rank 1       Ravi   23    Male       Tech      89                95   \n",
       "4   Rank 5     Kartik   23    Male       Tech      60                70   \n",
       "5   Rank 6  Pratiksha   24  Female   Non-Tech      58                55   \n",
       "8   Rank 9     Neelam   24  Female   Non-Tech      50                47   \n",
       "2   Rank 3    Gyanesh   25    Male       Tech      70                80   \n",
       "\n",
       "   Total      City Grade  \n",
       "7    100     Delhi     C  \n",
       "1    161    Mumbai     A  \n",
       "3    143      Pune     B  \n",
       "6    105     Delhi     C  \n",
       "9     91  Banglore     C  \n",
       "0    184    Mumbai     A  \n",
       "4    130     Delhi     B  \n",
       "5    113     Delhi     C  \n",
       "8     97      Pune     C  \n",
       "2    150    Mumbai     A  "
      ]
     },
     "execution_count": 363,
     "metadata": {},
     "output_type": "execute_result"
    }
   ],
   "source": [
    "df.sort_values(\"Age\")"
   ]
  },
  {
   "cell_type": "code",
   "execution_count": 364,
   "id": "393d73c6",
   "metadata": {},
   "outputs": [
    {
     "data": {
      "text/html": [
       "<div>\n",
       "<style scoped>\n",
       "    .dataframe tbody tr th:only-of-type {\n",
       "        vertical-align: middle;\n",
       "    }\n",
       "\n",
       "    .dataframe tbody tr th {\n",
       "        vertical-align: top;\n",
       "    }\n",
       "\n",
       "    .dataframe thead th {\n",
       "        text-align: right;\n",
       "    }\n",
       "</style>\n",
       "<table border=\"1\" class=\"dataframe\">\n",
       "  <thead>\n",
       "    <tr style=\"text-align: right;\">\n",
       "      <th></th>\n",
       "      <th>Rank</th>\n",
       "      <th>Name</th>\n",
       "      <th>Age</th>\n",
       "      <th>Gender</th>\n",
       "      <th>Background</th>\n",
       "      <th>Python</th>\n",
       "      <th>Machine Learning</th>\n",
       "      <th>Total</th>\n",
       "      <th>City</th>\n",
       "      <th>Grade</th>\n",
       "    </tr>\n",
       "  </thead>\n",
       "  <tbody>\n",
       "    <tr>\n",
       "      <th>7</th>\n",
       "      <td>Rank 8</td>\n",
       "      <td>Shani</td>\n",
       "      <td>21</td>\n",
       "      <td>Male</td>\n",
       "      <td>Tech</td>\n",
       "      <td>50</td>\n",
       "      <td>50</td>\n",
       "      <td>100</td>\n",
       "      <td>Delhi</td>\n",
       "      <td>C</td>\n",
       "    </tr>\n",
       "    <tr>\n",
       "      <th>9</th>\n",
       "      <td>Rank 10</td>\n",
       "      <td>Mangal</td>\n",
       "      <td>22</td>\n",
       "      <td>Male</td>\n",
       "      <td>Non-Tech</td>\n",
       "      <td>45</td>\n",
       "      <td>46</td>\n",
       "      <td>91</td>\n",
       "      <td>Banglore</td>\n",
       "      <td>C</td>\n",
       "    </tr>\n",
       "    <tr>\n",
       "      <th>6</th>\n",
       "      <td>Rank 7</td>\n",
       "      <td>Maya</td>\n",
       "      <td>22</td>\n",
       "      <td>Female</td>\n",
       "      <td>Non-Tech</td>\n",
       "      <td>55</td>\n",
       "      <td>50</td>\n",
       "      <td>105</td>\n",
       "      <td>Delhi</td>\n",
       "      <td>C</td>\n",
       "    </tr>\n",
       "    <tr>\n",
       "      <th>3</th>\n",
       "      <td>Rank 4</td>\n",
       "      <td>Rahul</td>\n",
       "      <td>22</td>\n",
       "      <td>Male</td>\n",
       "      <td>Tech</td>\n",
       "      <td>68</td>\n",
       "      <td>75</td>\n",
       "      <td>143</td>\n",
       "      <td>Pune</td>\n",
       "      <td>B</td>\n",
       "    </tr>\n",
       "    <tr>\n",
       "      <th>1</th>\n",
       "      <td>Rank 2</td>\n",
       "      <td>Chandni</td>\n",
       "      <td>22</td>\n",
       "      <td>Female</td>\n",
       "      <td>Non-Tech</td>\n",
       "      <td>78</td>\n",
       "      <td>83</td>\n",
       "      <td>161</td>\n",
       "      <td>Mumbai</td>\n",
       "      <td>A</td>\n",
       "    </tr>\n",
       "    <tr>\n",
       "      <th>4</th>\n",
       "      <td>Rank 5</td>\n",
       "      <td>Kartik</td>\n",
       "      <td>23</td>\n",
       "      <td>Male</td>\n",
       "      <td>Tech</td>\n",
       "      <td>60</td>\n",
       "      <td>70</td>\n",
       "      <td>130</td>\n",
       "      <td>Delhi</td>\n",
       "      <td>B</td>\n",
       "    </tr>\n",
       "    <tr>\n",
       "      <th>0</th>\n",
       "      <td>Rank 1</td>\n",
       "      <td>Ravi</td>\n",
       "      <td>23</td>\n",
       "      <td>Male</td>\n",
       "      <td>Tech</td>\n",
       "      <td>89</td>\n",
       "      <td>95</td>\n",
       "      <td>184</td>\n",
       "      <td>Mumbai</td>\n",
       "      <td>A</td>\n",
       "    </tr>\n",
       "    <tr>\n",
       "      <th>8</th>\n",
       "      <td>Rank 9</td>\n",
       "      <td>Neelam</td>\n",
       "      <td>24</td>\n",
       "      <td>Female</td>\n",
       "      <td>Non-Tech</td>\n",
       "      <td>50</td>\n",
       "      <td>47</td>\n",
       "      <td>97</td>\n",
       "      <td>Pune</td>\n",
       "      <td>C</td>\n",
       "    </tr>\n",
       "    <tr>\n",
       "      <th>5</th>\n",
       "      <td>Rank 6</td>\n",
       "      <td>Pratiksha</td>\n",
       "      <td>24</td>\n",
       "      <td>Female</td>\n",
       "      <td>Non-Tech</td>\n",
       "      <td>58</td>\n",
       "      <td>55</td>\n",
       "      <td>113</td>\n",
       "      <td>Delhi</td>\n",
       "      <td>C</td>\n",
       "    </tr>\n",
       "    <tr>\n",
       "      <th>2</th>\n",
       "      <td>Rank 3</td>\n",
       "      <td>Gyanesh</td>\n",
       "      <td>25</td>\n",
       "      <td>Male</td>\n",
       "      <td>Tech</td>\n",
       "      <td>70</td>\n",
       "      <td>80</td>\n",
       "      <td>150</td>\n",
       "      <td>Mumbai</td>\n",
       "      <td>A</td>\n",
       "    </tr>\n",
       "  </tbody>\n",
       "</table>\n",
       "</div>"
      ],
      "text/plain": [
       "      Rank       Name  Age  Gender Background  Python  Machine Learning  \\\n",
       "7   Rank 8      Shani   21    Male       Tech      50                50   \n",
       "9  Rank 10     Mangal   22    Male   Non-Tech      45                46   \n",
       "6   Rank 7       Maya   22  Female   Non-Tech      55                50   \n",
       "3   Rank 4      Rahul   22    Male       Tech      68                75   \n",
       "1   Rank 2    Chandni   22  Female   Non-Tech      78                83   \n",
       "4   Rank 5     Kartik   23    Male       Tech      60                70   \n",
       "0   Rank 1       Ravi   23    Male       Tech      89                95   \n",
       "8   Rank 9     Neelam   24  Female   Non-Tech      50                47   \n",
       "5   Rank 6  Pratiksha   24  Female   Non-Tech      58                55   \n",
       "2   Rank 3    Gyanesh   25    Male       Tech      70                80   \n",
       "\n",
       "   Total      City Grade  \n",
       "7    100     Delhi     C  \n",
       "9     91  Banglore     C  \n",
       "6    105     Delhi     C  \n",
       "3    143      Pune     B  \n",
       "1    161    Mumbai     A  \n",
       "4    130     Delhi     B  \n",
       "0    184    Mumbai     A  \n",
       "8     97      Pune     C  \n",
       "5    113     Delhi     C  \n",
       "2    150    Mumbai     A  "
      ]
     },
     "execution_count": 364,
     "metadata": {},
     "output_type": "execute_result"
    }
   ],
   "source": [
    "df.sort_values([\"Age\",\"Total\"])"
   ]
  },
  {
   "cell_type": "code",
   "execution_count": 365,
   "id": "5db0987c",
   "metadata": {},
   "outputs": [
    {
     "data": {
      "text/plain": [
       "1    Non-Tech\n",
       "Name: Background, dtype: object"
      ]
     },
     "execution_count": 365,
     "metadata": {},
     "output_type": "execute_result"
    }
   ],
   "source": [
    "df[df[\"Name\"]==\"Chandni\"][\"Background\"]"
   ]
  },
  {
   "cell_type": "code",
   "execution_count": 366,
   "id": "e0a38043",
   "metadata": {},
   "outputs": [
    {
     "data": {
      "text/html": [
       "<div>\n",
       "<style scoped>\n",
       "    .dataframe tbody tr th:only-of-type {\n",
       "        vertical-align: middle;\n",
       "    }\n",
       "\n",
       "    .dataframe tbody tr th {\n",
       "        vertical-align: top;\n",
       "    }\n",
       "\n",
       "    .dataframe thead th {\n",
       "        text-align: right;\n",
       "    }\n",
       "</style>\n",
       "<table border=\"1\" class=\"dataframe\">\n",
       "  <thead>\n",
       "    <tr style=\"text-align: right;\">\n",
       "      <th></th>\n",
       "      <th>Rank</th>\n",
       "      <th>Name</th>\n",
       "      <th>Age</th>\n",
       "      <th>Gender</th>\n",
       "      <th>Background</th>\n",
       "      <th>Python</th>\n",
       "      <th>Machine Learning</th>\n",
       "      <th>Total</th>\n",
       "      <th>City</th>\n",
       "    </tr>\n",
       "  </thead>\n",
       "  <tbody>\n",
       "    <tr>\n",
       "      <th>0</th>\n",
       "      <td>Rank 1</td>\n",
       "      <td>Ravi</td>\n",
       "      <td>23</td>\n",
       "      <td>Male</td>\n",
       "      <td>Tech</td>\n",
       "      <td>89</td>\n",
       "      <td>95</td>\n",
       "      <td>184</td>\n",
       "      <td>Mumbai</td>\n",
       "    </tr>\n",
       "    <tr>\n",
       "      <th>1</th>\n",
       "      <td>Rank 2</td>\n",
       "      <td>Chandni</td>\n",
       "      <td>22</td>\n",
       "      <td>Female</td>\n",
       "      <td>Non-Tech</td>\n",
       "      <td>78</td>\n",
       "      <td>83</td>\n",
       "      <td>161</td>\n",
       "      <td>Mumbai</td>\n",
       "    </tr>\n",
       "    <tr>\n",
       "      <th>2</th>\n",
       "      <td>Rank 3</td>\n",
       "      <td>Gyanesh</td>\n",
       "      <td>25</td>\n",
       "      <td>Male</td>\n",
       "      <td>Tech</td>\n",
       "      <td>70</td>\n",
       "      <td>80</td>\n",
       "      <td>150</td>\n",
       "      <td>Mumbai</td>\n",
       "    </tr>\n",
       "    <tr>\n",
       "      <th>3</th>\n",
       "      <td>Rank 4</td>\n",
       "      <td>Rahul</td>\n",
       "      <td>22</td>\n",
       "      <td>Male</td>\n",
       "      <td>Tech</td>\n",
       "      <td>68</td>\n",
       "      <td>75</td>\n",
       "      <td>143</td>\n",
       "      <td>Pune</td>\n",
       "    </tr>\n",
       "    <tr>\n",
       "      <th>4</th>\n",
       "      <td>Rank 5</td>\n",
       "      <td>Kartik</td>\n",
       "      <td>23</td>\n",
       "      <td>Male</td>\n",
       "      <td>Tech</td>\n",
       "      <td>60</td>\n",
       "      <td>70</td>\n",
       "      <td>130</td>\n",
       "      <td>Delhi</td>\n",
       "    </tr>\n",
       "  </tbody>\n",
       "</table>\n",
       "</div>"
      ],
      "text/plain": [
       "     Rank     Name  Age  Gender Background  Python  Machine Learning  Total  \\\n",
       "0  Rank 1     Ravi   23    Male       Tech      89                95    184   \n",
       "1  Rank 2  Chandni   22  Female   Non-Tech      78                83    161   \n",
       "2  Rank 3  Gyanesh   25    Male       Tech      70                80    150   \n",
       "3  Rank 4    Rahul   22    Male       Tech      68                75    143   \n",
       "4  Rank 5   Kartik   23    Male       Tech      60                70    130   \n",
       "\n",
       "     City  \n",
       "0  Mumbai  \n",
       "1  Mumbai  \n",
       "2  Mumbai  \n",
       "3    Pune  \n",
       "4   Delhi  "
      ]
     },
     "execution_count": 366,
     "metadata": {},
     "output_type": "execute_result"
    }
   ],
   "source": [
    "df.drop(\"Grade\",axis=1).head()"
   ]
  },
  {
   "cell_type": "code",
   "execution_count": 367,
   "id": "37e31d45",
   "metadata": {},
   "outputs": [],
   "source": [
    "#df.drop(['Age',\"Background\",\"Total\"],axis=1)"
   ]
  },
  {
   "cell_type": "code",
   "execution_count": 368,
   "id": "f97ede5f",
   "metadata": {},
   "outputs": [
    {
     "data": {
      "text/html": [
       "<div>\n",
       "<style scoped>\n",
       "    .dataframe tbody tr th:only-of-type {\n",
       "        vertical-align: middle;\n",
       "    }\n",
       "\n",
       "    .dataframe tbody tr th {\n",
       "        vertical-align: top;\n",
       "    }\n",
       "\n",
       "    .dataframe thead th {\n",
       "        text-align: right;\n",
       "    }\n",
       "</style>\n",
       "<table border=\"1\" class=\"dataframe\">\n",
       "  <thead>\n",
       "    <tr style=\"text-align: right;\">\n",
       "      <th></th>\n",
       "      <th>Rank</th>\n",
       "      <th>Name</th>\n",
       "      <th>Age</th>\n",
       "      <th>Gender</th>\n",
       "      <th>Background</th>\n",
       "      <th>Python</th>\n",
       "      <th>Machine Learning</th>\n",
       "      <th>Total</th>\n",
       "      <th>City</th>\n",
       "      <th>Grade</th>\n",
       "    </tr>\n",
       "  </thead>\n",
       "  <tbody>\n",
       "    <tr>\n",
       "      <th>0</th>\n",
       "      <td>Rank 1</td>\n",
       "      <td>Ravi</td>\n",
       "      <td>23</td>\n",
       "      <td>Male</td>\n",
       "      <td>Tech</td>\n",
       "      <td>89</td>\n",
       "      <td>95</td>\n",
       "      <td>184</td>\n",
       "      <td>Mumbai</td>\n",
       "      <td>A</td>\n",
       "    </tr>\n",
       "    <tr>\n",
       "      <th>1</th>\n",
       "      <td>Rank 2</td>\n",
       "      <td>Chandni</td>\n",
       "      <td>22</td>\n",
       "      <td>Female</td>\n",
       "      <td>Non-Tech</td>\n",
       "      <td>78</td>\n",
       "      <td>83</td>\n",
       "      <td>161</td>\n",
       "      <td>Mumbai</td>\n",
       "      <td>A</td>\n",
       "    </tr>\n",
       "    <tr>\n",
       "      <th>2</th>\n",
       "      <td>Rank 3</td>\n",
       "      <td>Gyanesh</td>\n",
       "      <td>25</td>\n",
       "      <td>Male</td>\n",
       "      <td>Tech</td>\n",
       "      <td>70</td>\n",
       "      <td>80</td>\n",
       "      <td>150</td>\n",
       "      <td>Mumbai</td>\n",
       "      <td>A</td>\n",
       "    </tr>\n",
       "    <tr>\n",
       "      <th>3</th>\n",
       "      <td>Rank 4</td>\n",
       "      <td>Rahul</td>\n",
       "      <td>22</td>\n",
       "      <td>Male</td>\n",
       "      <td>Tech</td>\n",
       "      <td>68</td>\n",
       "      <td>75</td>\n",
       "      <td>143</td>\n",
       "      <td>Pune</td>\n",
       "      <td>B</td>\n",
       "    </tr>\n",
       "    <tr>\n",
       "      <th>4</th>\n",
       "      <td>Rank 5</td>\n",
       "      <td>Kartik</td>\n",
       "      <td>23</td>\n",
       "      <td>Male</td>\n",
       "      <td>Tech</td>\n",
       "      <td>60</td>\n",
       "      <td>70</td>\n",
       "      <td>130</td>\n",
       "      <td>Delhi</td>\n",
       "      <td>B</td>\n",
       "    </tr>\n",
       "    <tr>\n",
       "      <th>5</th>\n",
       "      <td>Rank 6</td>\n",
       "      <td>Pratiksha</td>\n",
       "      <td>24</td>\n",
       "      <td>Female</td>\n",
       "      <td>Non-Tech</td>\n",
       "      <td>58</td>\n",
       "      <td>55</td>\n",
       "      <td>113</td>\n",
       "      <td>Delhi</td>\n",
       "      <td>C</td>\n",
       "    </tr>\n",
       "    <tr>\n",
       "      <th>6</th>\n",
       "      <td>Rank 7</td>\n",
       "      <td>Maya</td>\n",
       "      <td>22</td>\n",
       "      <td>Female</td>\n",
       "      <td>Non-Tech</td>\n",
       "      <td>55</td>\n",
       "      <td>50</td>\n",
       "      <td>105</td>\n",
       "      <td>Delhi</td>\n",
       "      <td>C</td>\n",
       "    </tr>\n",
       "    <tr>\n",
       "      <th>7</th>\n",
       "      <td>Rank 8</td>\n",
       "      <td>Shani</td>\n",
       "      <td>21</td>\n",
       "      <td>Male</td>\n",
       "      <td>Tech</td>\n",
       "      <td>50</td>\n",
       "      <td>50</td>\n",
       "      <td>100</td>\n",
       "      <td>Delhi</td>\n",
       "      <td>C</td>\n",
       "    </tr>\n",
       "    <tr>\n",
       "      <th>8</th>\n",
       "      <td>Rank 9</td>\n",
       "      <td>Neelam</td>\n",
       "      <td>24</td>\n",
       "      <td>Female</td>\n",
       "      <td>Non-Tech</td>\n",
       "      <td>50</td>\n",
       "      <td>47</td>\n",
       "      <td>97</td>\n",
       "      <td>Pune</td>\n",
       "      <td>C</td>\n",
       "    </tr>\n",
       "    <tr>\n",
       "      <th>9</th>\n",
       "      <td>Rank 10</td>\n",
       "      <td>Mangal</td>\n",
       "      <td>22</td>\n",
       "      <td>Male</td>\n",
       "      <td>Non-Tech</td>\n",
       "      <td>45</td>\n",
       "      <td>46</td>\n",
       "      <td>91</td>\n",
       "      <td>Banglore</td>\n",
       "      <td>C</td>\n",
       "    </tr>\n",
       "  </tbody>\n",
       "</table>\n",
       "</div>"
      ],
      "text/plain": [
       "      Rank       Name  Age  Gender Background  Python  Machine Learning  \\\n",
       "0   Rank 1       Ravi   23    Male       Tech      89                95   \n",
       "1   Rank 2    Chandni   22  Female   Non-Tech      78                83   \n",
       "2   Rank 3    Gyanesh   25    Male       Tech      70                80   \n",
       "3   Rank 4      Rahul   22    Male       Tech      68                75   \n",
       "4   Rank 5     Kartik   23    Male       Tech      60                70   \n",
       "5   Rank 6  Pratiksha   24  Female   Non-Tech      58                55   \n",
       "6   Rank 7       Maya   22  Female   Non-Tech      55                50   \n",
       "7   Rank 8      Shani   21    Male       Tech      50                50   \n",
       "8   Rank 9     Neelam   24  Female   Non-Tech      50                47   \n",
       "9  Rank 10     Mangal   22    Male   Non-Tech      45                46   \n",
       "\n",
       "   Total      City Grade  \n",
       "0    184    Mumbai     A  \n",
       "1    161    Mumbai     A  \n",
       "2    150    Mumbai     A  \n",
       "3    143      Pune     B  \n",
       "4    130     Delhi     B  \n",
       "5    113     Delhi     C  \n",
       "6    105     Delhi     C  \n",
       "7    100     Delhi     C  \n",
       "8     97      Pune     C  \n",
       "9     91  Banglore     C  "
      ]
     },
     "execution_count": 368,
     "metadata": {},
     "output_type": "execute_result"
    }
   ],
   "source": [
    "df"
   ]
  },
  {
   "cell_type": "code",
   "execution_count": 369,
   "id": "bbb567b0",
   "metadata": {},
   "outputs": [],
   "source": [
    "df.drop(['Age',\"Background\",\"Total\"],axis=1,inplace=True)"
   ]
  },
  {
   "cell_type": "code",
   "execution_count": 370,
   "id": "b8091d3a",
   "metadata": {},
   "outputs": [
    {
     "data": {
      "text/html": [
       "<div>\n",
       "<style scoped>\n",
       "    .dataframe tbody tr th:only-of-type {\n",
       "        vertical-align: middle;\n",
       "    }\n",
       "\n",
       "    .dataframe tbody tr th {\n",
       "        vertical-align: top;\n",
       "    }\n",
       "\n",
       "    .dataframe thead th {\n",
       "        text-align: right;\n",
       "    }\n",
       "</style>\n",
       "<table border=\"1\" class=\"dataframe\">\n",
       "  <thead>\n",
       "    <tr style=\"text-align: right;\">\n",
       "      <th></th>\n",
       "      <th>Rank</th>\n",
       "      <th>Name</th>\n",
       "      <th>Gender</th>\n",
       "      <th>Python</th>\n",
       "      <th>Machine Learning</th>\n",
       "      <th>City</th>\n",
       "      <th>Grade</th>\n",
       "    </tr>\n",
       "  </thead>\n",
       "  <tbody>\n",
       "    <tr>\n",
       "      <th>0</th>\n",
       "      <td>Rank 1</td>\n",
       "      <td>Ravi</td>\n",
       "      <td>Male</td>\n",
       "      <td>89</td>\n",
       "      <td>95</td>\n",
       "      <td>Mumbai</td>\n",
       "      <td>A</td>\n",
       "    </tr>\n",
       "    <tr>\n",
       "      <th>1</th>\n",
       "      <td>Rank 2</td>\n",
       "      <td>Chandni</td>\n",
       "      <td>Female</td>\n",
       "      <td>78</td>\n",
       "      <td>83</td>\n",
       "      <td>Mumbai</td>\n",
       "      <td>A</td>\n",
       "    </tr>\n",
       "    <tr>\n",
       "      <th>2</th>\n",
       "      <td>Rank 3</td>\n",
       "      <td>Gyanesh</td>\n",
       "      <td>Male</td>\n",
       "      <td>70</td>\n",
       "      <td>80</td>\n",
       "      <td>Mumbai</td>\n",
       "      <td>A</td>\n",
       "    </tr>\n",
       "    <tr>\n",
       "      <th>3</th>\n",
       "      <td>Rank 4</td>\n",
       "      <td>Rahul</td>\n",
       "      <td>Male</td>\n",
       "      <td>68</td>\n",
       "      <td>75</td>\n",
       "      <td>Pune</td>\n",
       "      <td>B</td>\n",
       "    </tr>\n",
       "    <tr>\n",
       "      <th>4</th>\n",
       "      <td>Rank 5</td>\n",
       "      <td>Kartik</td>\n",
       "      <td>Male</td>\n",
       "      <td>60</td>\n",
       "      <td>70</td>\n",
       "      <td>Delhi</td>\n",
       "      <td>B</td>\n",
       "    </tr>\n",
       "    <tr>\n",
       "      <th>5</th>\n",
       "      <td>Rank 6</td>\n",
       "      <td>Pratiksha</td>\n",
       "      <td>Female</td>\n",
       "      <td>58</td>\n",
       "      <td>55</td>\n",
       "      <td>Delhi</td>\n",
       "      <td>C</td>\n",
       "    </tr>\n",
       "    <tr>\n",
       "      <th>6</th>\n",
       "      <td>Rank 7</td>\n",
       "      <td>Maya</td>\n",
       "      <td>Female</td>\n",
       "      <td>55</td>\n",
       "      <td>50</td>\n",
       "      <td>Delhi</td>\n",
       "      <td>C</td>\n",
       "    </tr>\n",
       "    <tr>\n",
       "      <th>7</th>\n",
       "      <td>Rank 8</td>\n",
       "      <td>Shani</td>\n",
       "      <td>Male</td>\n",
       "      <td>50</td>\n",
       "      <td>50</td>\n",
       "      <td>Delhi</td>\n",
       "      <td>C</td>\n",
       "    </tr>\n",
       "    <tr>\n",
       "      <th>8</th>\n",
       "      <td>Rank 9</td>\n",
       "      <td>Neelam</td>\n",
       "      <td>Female</td>\n",
       "      <td>50</td>\n",
       "      <td>47</td>\n",
       "      <td>Pune</td>\n",
       "      <td>C</td>\n",
       "    </tr>\n",
       "    <tr>\n",
       "      <th>9</th>\n",
       "      <td>Rank 10</td>\n",
       "      <td>Mangal</td>\n",
       "      <td>Male</td>\n",
       "      <td>45</td>\n",
       "      <td>46</td>\n",
       "      <td>Banglore</td>\n",
       "      <td>C</td>\n",
       "    </tr>\n",
       "  </tbody>\n",
       "</table>\n",
       "</div>"
      ],
      "text/plain": [
       "      Rank       Name  Gender  Python  Machine Learning      City Grade\n",
       "0   Rank 1       Ravi    Male      89                95    Mumbai     A\n",
       "1   Rank 2    Chandni  Female      78                83    Mumbai     A\n",
       "2   Rank 3    Gyanesh    Male      70                80    Mumbai     A\n",
       "3   Rank 4      Rahul    Male      68                75      Pune     B\n",
       "4   Rank 5     Kartik    Male      60                70     Delhi     B\n",
       "5   Rank 6  Pratiksha  Female      58                55     Delhi     C\n",
       "6   Rank 7       Maya  Female      55                50     Delhi     C\n",
       "7   Rank 8      Shani    Male      50                50     Delhi     C\n",
       "8   Rank 9     Neelam  Female      50                47      Pune     C\n",
       "9  Rank 10     Mangal    Male      45                46  Banglore     C"
      ]
     },
     "execution_count": 370,
     "metadata": {},
     "output_type": "execute_result"
    }
   ],
   "source": [
    "df"
   ]
  },
  {
   "cell_type": "code",
   "execution_count": 371,
   "id": "3b267465",
   "metadata": {},
   "outputs": [],
   "source": [
    "df.drop([0,1,4,7],axis=0,inplace=True)"
   ]
  },
  {
   "cell_type": "code",
   "execution_count": 372,
   "id": "ff67d437",
   "metadata": {},
   "outputs": [
    {
     "data": {
      "text/html": [
       "<div>\n",
       "<style scoped>\n",
       "    .dataframe tbody tr th:only-of-type {\n",
       "        vertical-align: middle;\n",
       "    }\n",
       "\n",
       "    .dataframe tbody tr th {\n",
       "        vertical-align: top;\n",
       "    }\n",
       "\n",
       "    .dataframe thead th {\n",
       "        text-align: right;\n",
       "    }\n",
       "</style>\n",
       "<table border=\"1\" class=\"dataframe\">\n",
       "  <thead>\n",
       "    <tr style=\"text-align: right;\">\n",
       "      <th></th>\n",
       "      <th>Rank</th>\n",
       "      <th>Name</th>\n",
       "      <th>Gender</th>\n",
       "      <th>Python</th>\n",
       "      <th>Machine Learning</th>\n",
       "      <th>City</th>\n",
       "      <th>Grade</th>\n",
       "    </tr>\n",
       "  </thead>\n",
       "  <tbody>\n",
       "    <tr>\n",
       "      <th>2</th>\n",
       "      <td>Rank 3</td>\n",
       "      <td>Gyanesh</td>\n",
       "      <td>Male</td>\n",
       "      <td>70</td>\n",
       "      <td>80</td>\n",
       "      <td>Mumbai</td>\n",
       "      <td>A</td>\n",
       "    </tr>\n",
       "    <tr>\n",
       "      <th>3</th>\n",
       "      <td>Rank 4</td>\n",
       "      <td>Rahul</td>\n",
       "      <td>Male</td>\n",
       "      <td>68</td>\n",
       "      <td>75</td>\n",
       "      <td>Pune</td>\n",
       "      <td>B</td>\n",
       "    </tr>\n",
       "    <tr>\n",
       "      <th>5</th>\n",
       "      <td>Rank 6</td>\n",
       "      <td>Pratiksha</td>\n",
       "      <td>Female</td>\n",
       "      <td>58</td>\n",
       "      <td>55</td>\n",
       "      <td>Delhi</td>\n",
       "      <td>C</td>\n",
       "    </tr>\n",
       "    <tr>\n",
       "      <th>6</th>\n",
       "      <td>Rank 7</td>\n",
       "      <td>Maya</td>\n",
       "      <td>Female</td>\n",
       "      <td>55</td>\n",
       "      <td>50</td>\n",
       "      <td>Delhi</td>\n",
       "      <td>C</td>\n",
       "    </tr>\n",
       "    <tr>\n",
       "      <th>8</th>\n",
       "      <td>Rank 9</td>\n",
       "      <td>Neelam</td>\n",
       "      <td>Female</td>\n",
       "      <td>50</td>\n",
       "      <td>47</td>\n",
       "      <td>Pune</td>\n",
       "      <td>C</td>\n",
       "    </tr>\n",
       "    <tr>\n",
       "      <th>9</th>\n",
       "      <td>Rank 10</td>\n",
       "      <td>Mangal</td>\n",
       "      <td>Male</td>\n",
       "      <td>45</td>\n",
       "      <td>46</td>\n",
       "      <td>Banglore</td>\n",
       "      <td>C</td>\n",
       "    </tr>\n",
       "  </tbody>\n",
       "</table>\n",
       "</div>"
      ],
      "text/plain": [
       "      Rank       Name  Gender  Python  Machine Learning      City Grade\n",
       "2   Rank 3    Gyanesh    Male      70                80    Mumbai     A\n",
       "3   Rank 4      Rahul    Male      68                75      Pune     B\n",
       "5   Rank 6  Pratiksha  Female      58                55     Delhi     C\n",
       "6   Rank 7       Maya  Female      55                50     Delhi     C\n",
       "8   Rank 9     Neelam  Female      50                47      Pune     C\n",
       "9  Rank 10     Mangal    Male      45                46  Banglore     C"
      ]
     },
     "execution_count": 372,
     "metadata": {},
     "output_type": "execute_result"
    }
   ],
   "source": [
    "df"
   ]
  },
  {
   "cell_type": "code",
   "execution_count": 373,
   "id": "478fb667",
   "metadata": {},
   "outputs": [],
   "source": [
    "df.reset_index(drop=True,inplace=True)"
   ]
  },
  {
   "cell_type": "code",
   "execution_count": null,
   "id": "e59e1281",
   "metadata": {},
   "outputs": [],
   "source": []
  },
  {
   "cell_type": "code",
   "execution_count": null,
   "id": "665a8696",
   "metadata": {},
   "outputs": [],
   "source": []
  },
  {
   "cell_type": "code",
   "execution_count": null,
   "id": "89750ec4",
   "metadata": {},
   "outputs": [],
   "source": []
  },
  {
   "cell_type": "code",
   "execution_count": null,
   "id": "0bcf68d9",
   "metadata": {},
   "outputs": [],
   "source": []
  },
  {
   "cell_type": "code",
   "execution_count": 374,
   "id": "9ee0f19b",
   "metadata": {},
   "outputs": [
    {
     "data": {
      "text/html": [
       "<div>\n",
       "<style scoped>\n",
       "    .dataframe tbody tr th:only-of-type {\n",
       "        vertical-align: middle;\n",
       "    }\n",
       "\n",
       "    .dataframe tbody tr th {\n",
       "        vertical-align: top;\n",
       "    }\n",
       "\n",
       "    .dataframe thead th {\n",
       "        text-align: right;\n",
       "    }\n",
       "</style>\n",
       "<table border=\"1\" class=\"dataframe\">\n",
       "  <thead>\n",
       "    <tr style=\"text-align: right;\">\n",
       "      <th></th>\n",
       "      <th>Rank</th>\n",
       "      <th>Name</th>\n",
       "      <th>Gender</th>\n",
       "      <th>Python</th>\n",
       "      <th>Machine Learning</th>\n",
       "      <th>City</th>\n",
       "      <th>Grade</th>\n",
       "    </tr>\n",
       "  </thead>\n",
       "  <tbody>\n",
       "    <tr>\n",
       "      <th>0</th>\n",
       "      <td>Rank 3</td>\n",
       "      <td>Gyanesh</td>\n",
       "      <td>Male</td>\n",
       "      <td>70</td>\n",
       "      <td>80</td>\n",
       "      <td>Mumbai</td>\n",
       "      <td>A</td>\n",
       "    </tr>\n",
       "    <tr>\n",
       "      <th>1</th>\n",
       "      <td>Rank 4</td>\n",
       "      <td>Rahul</td>\n",
       "      <td>Male</td>\n",
       "      <td>68</td>\n",
       "      <td>75</td>\n",
       "      <td>Pune</td>\n",
       "      <td>B</td>\n",
       "    </tr>\n",
       "    <tr>\n",
       "      <th>2</th>\n",
       "      <td>Rank 6</td>\n",
       "      <td>Pratiksha</td>\n",
       "      <td>Female</td>\n",
       "      <td>58</td>\n",
       "      <td>55</td>\n",
       "      <td>Delhi</td>\n",
       "      <td>C</td>\n",
       "    </tr>\n",
       "    <tr>\n",
       "      <th>3</th>\n",
       "      <td>Rank 7</td>\n",
       "      <td>Maya</td>\n",
       "      <td>Female</td>\n",
       "      <td>55</td>\n",
       "      <td>50</td>\n",
       "      <td>Delhi</td>\n",
       "      <td>C</td>\n",
       "    </tr>\n",
       "    <tr>\n",
       "      <th>4</th>\n",
       "      <td>Rank 9</td>\n",
       "      <td>Neelam</td>\n",
       "      <td>Female</td>\n",
       "      <td>50</td>\n",
       "      <td>47</td>\n",
       "      <td>Pune</td>\n",
       "      <td>C</td>\n",
       "    </tr>\n",
       "    <tr>\n",
       "      <th>5</th>\n",
       "      <td>Rank 10</td>\n",
       "      <td>Mangal</td>\n",
       "      <td>Male</td>\n",
       "      <td>45</td>\n",
       "      <td>46</td>\n",
       "      <td>Banglore</td>\n",
       "      <td>C</td>\n",
       "    </tr>\n",
       "  </tbody>\n",
       "</table>\n",
       "</div>"
      ],
      "text/plain": [
       "      Rank       Name  Gender  Python  Machine Learning      City Grade\n",
       "0   Rank 3    Gyanesh    Male      70                80    Mumbai     A\n",
       "1   Rank 4      Rahul    Male      68                75      Pune     B\n",
       "2   Rank 6  Pratiksha  Female      58                55     Delhi     C\n",
       "3   Rank 7       Maya  Female      55                50     Delhi     C\n",
       "4   Rank 9     Neelam  Female      50                47      Pune     C\n",
       "5  Rank 10     Mangal    Male      45                46  Banglore     C"
      ]
     },
     "execution_count": 374,
     "metadata": {},
     "output_type": "execute_result"
    }
   ],
   "source": [
    "df"
   ]
  },
  {
   "cell_type": "code",
   "execution_count": 375,
   "id": "45b8d0e0",
   "metadata": {},
   "outputs": [
    {
     "data": {
      "text/html": [
       "<div>\n",
       "<style scoped>\n",
       "    .dataframe tbody tr th:only-of-type {\n",
       "        vertical-align: middle;\n",
       "    }\n",
       "\n",
       "    .dataframe tbody tr th {\n",
       "        vertical-align: top;\n",
       "    }\n",
       "\n",
       "    .dataframe thead th {\n",
       "        text-align: right;\n",
       "    }\n",
       "</style>\n",
       "<table border=\"1\" class=\"dataframe\">\n",
       "  <thead>\n",
       "    <tr style=\"text-align: right;\">\n",
       "      <th></th>\n",
       "      <th>Rank</th>\n",
       "      <th>Name</th>\n",
       "      <th>Gender</th>\n",
       "      <th>Python</th>\n",
       "      <th>Machine Learning</th>\n",
       "      <th>City</th>\n",
       "      <th>Grade</th>\n",
       "    </tr>\n",
       "  </thead>\n",
       "  <tbody>\n",
       "    <tr>\n",
       "      <th>0</th>\n",
       "      <td>Rank 3</td>\n",
       "      <td>Gyanesh</td>\n",
       "      <td>Male</td>\n",
       "      <td>70</td>\n",
       "      <td>80</td>\n",
       "      <td>Mumbai</td>\n",
       "      <td>A</td>\n",
       "    </tr>\n",
       "    <tr>\n",
       "      <th>2</th>\n",
       "      <td>Rank 6</td>\n",
       "      <td>Pratiksha</td>\n",
       "      <td>Female</td>\n",
       "      <td>58</td>\n",
       "      <td>55</td>\n",
       "      <td>Delhi</td>\n",
       "      <td>C</td>\n",
       "    </tr>\n",
       "    <tr>\n",
       "      <th>5</th>\n",
       "      <td>Rank 10</td>\n",
       "      <td>Mangal</td>\n",
       "      <td>Male</td>\n",
       "      <td>45</td>\n",
       "      <td>46</td>\n",
       "      <td>Banglore</td>\n",
       "      <td>C</td>\n",
       "    </tr>\n",
       "  </tbody>\n",
       "</table>\n",
       "</div>"
      ],
      "text/plain": [
       "      Rank       Name  Gender  Python  Machine Learning      City Grade\n",
       "0   Rank 3    Gyanesh    Male      70                80    Mumbai     A\n",
       "2   Rank 6  Pratiksha  Female      58                55     Delhi     C\n",
       "5  Rank 10     Mangal    Male      45                46  Banglore     C"
      ]
     },
     "execution_count": 375,
     "metadata": {},
     "output_type": "execute_result"
    }
   ],
   "source": [
    "df.drop([1,3,4],axis=0,inplace=True)\n",
    "df"
   ]
  },
  {
   "cell_type": "code",
   "execution_count": 376,
   "id": "cd10ad9e",
   "metadata": {},
   "outputs": [],
   "source": [
    "df.reset_index(drop=True,inplace=True)"
   ]
  },
  {
   "cell_type": "code",
   "execution_count": 377,
   "id": "e6982854",
   "metadata": {},
   "outputs": [
    {
     "data": {
      "text/html": [
       "<div>\n",
       "<style scoped>\n",
       "    .dataframe tbody tr th:only-of-type {\n",
       "        vertical-align: middle;\n",
       "    }\n",
       "\n",
       "    .dataframe tbody tr th {\n",
       "        vertical-align: top;\n",
       "    }\n",
       "\n",
       "    .dataframe thead th {\n",
       "        text-align: right;\n",
       "    }\n",
       "</style>\n",
       "<table border=\"1\" class=\"dataframe\">\n",
       "  <thead>\n",
       "    <tr style=\"text-align: right;\">\n",
       "      <th></th>\n",
       "      <th>Rank</th>\n",
       "      <th>Name</th>\n",
       "      <th>Gender</th>\n",
       "      <th>Python</th>\n",
       "      <th>Machine Learning</th>\n",
       "      <th>City</th>\n",
       "      <th>Grade</th>\n",
       "    </tr>\n",
       "  </thead>\n",
       "  <tbody>\n",
       "    <tr>\n",
       "      <th>0</th>\n",
       "      <td>Rank 3</td>\n",
       "      <td>Gyanesh</td>\n",
       "      <td>Male</td>\n",
       "      <td>70</td>\n",
       "      <td>80</td>\n",
       "      <td>Mumbai</td>\n",
       "      <td>A</td>\n",
       "    </tr>\n",
       "    <tr>\n",
       "      <th>1</th>\n",
       "      <td>Rank 6</td>\n",
       "      <td>Pratiksha</td>\n",
       "      <td>Female</td>\n",
       "      <td>58</td>\n",
       "      <td>55</td>\n",
       "      <td>Delhi</td>\n",
       "      <td>C</td>\n",
       "    </tr>\n",
       "    <tr>\n",
       "      <th>2</th>\n",
       "      <td>Rank 10</td>\n",
       "      <td>Mangal</td>\n",
       "      <td>Male</td>\n",
       "      <td>45</td>\n",
       "      <td>46</td>\n",
       "      <td>Banglore</td>\n",
       "      <td>C</td>\n",
       "    </tr>\n",
       "  </tbody>\n",
       "</table>\n",
       "</div>"
      ],
      "text/plain": [
       "      Rank       Name  Gender  Python  Machine Learning      City Grade\n",
       "0   Rank 3    Gyanesh    Male      70                80    Mumbai     A\n",
       "1   Rank 6  Pratiksha  Female      58                55     Delhi     C\n",
       "2  Rank 10     Mangal    Male      45                46  Banglore     C"
      ]
     },
     "execution_count": 377,
     "metadata": {},
     "output_type": "execute_result"
    }
   ],
   "source": [
    "df"
   ]
  },
  {
   "cell_type": "code",
   "execution_count": null,
   "id": "dfe06b8b",
   "metadata": {},
   "outputs": [],
   "source": []
  },
  {
   "cell_type": "code",
   "execution_count": null,
   "id": "bae84e06",
   "metadata": {},
   "outputs": [],
   "source": []
  },
  {
   "cell_type": "code",
   "execution_count": null,
   "id": "ce7b4832",
   "metadata": {},
   "outputs": [],
   "source": []
  }
 ],
 "metadata": {
  "kernelspec": {
   "display_name": "Python 3 (ipykernel)",
   "language": "python",
   "name": "python3"
  },
  "language_info": {
   "codemirror_mode": {
    "name": "ipython",
    "version": 3
   },
   "file_extension": ".py",
   "mimetype": "text/x-python",
   "name": "python",
   "nbconvert_exporter": "python",
   "pygments_lexer": "ipython3",
   "version": "3.9.7"
  }
 },
 "nbformat": 4,
 "nbformat_minor": 5
}
